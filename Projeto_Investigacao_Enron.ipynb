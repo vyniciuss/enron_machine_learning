{
 "cells": [
  {
   "cell_type": "markdown",
   "metadata": {},
   "source": [
    "# Indentificando fraude a partir de e-mails da Enron\n",
    "\n",
    "#### Udacity - Introdução a Machine Learning\n",
    "\n",
    "\n",
    "## Enron Corporation\n",
    "\n",
    ">A Enron Corporation foi uma companhia de energia americana, localizada em Houston, Texas. Empregava cerca de 21 000 pessoas, tendo sido uma das empresas líderes no mundo em distribuição de energia (electricidade, gás natural) e comunicações, mas decretou falência. Seu faturamento atingia 101 bilhões de dólares em 2000, pouco antes do escândalo financeiro que ocasionou sua falência.\n",
    "\n",
    ">Alvo de diversas denúncias de fraudes contábeis e fiscais e com uma dívida de 13 bilhões de dólares, o grupo pediu concordata em dezembro de 2001 e arrastou consigo a Arthur Andersen, que fazia a sua auditoria. Na época, as investigações revelaram que a Enron havia manipulado seus balanços , com a ajuda de empresas e bancos, e escondera dívidas de 25 bilhões de dólares por dois anos consecutivos, tendo inflado artificialmente os seus lucros.\n",
    "\n",
    ">O governo dos Estados Unidos abriu dezenas de investigações criminais contra executivos da Enron e da Arthur Andersen. A Enron foi também processada pelas pessoas lesadas. De acordo com os investigadores, os executivos e contadores, assim como instituições financeiras e escritórios de advocacia, que à época trabalhavam para a companhia, foram, de alguma forma e em diferentes graus, responsáveis pelo colapso da empresa.\n",
    ">Em razão de uma série de escândalos financeiros corporativos, como o da Enron, foi redigida a lei Sarbanes-Oxley, em 2002.\n",
    "\n",
    ">O ocorrido serviu de palco para o filme de comédia As Loucuras de Dick & Jane (2005) Com Jim Carrey, onde ele trabalha na Globodyne (Fictícia Enron) e passa altos perrengues devido a falência da empresa. Vale notar um EasterEgg no final, onde seu vizinho ostentador se gaba por ter conseguido um emprego na incrível Enron.\n",
    "\n",
    "[wikipedia](https://pt.wikipedia.org/wiki/Enron)\n",
    "\n",
    "\n",
    "\n",
    "\n",
    "\n",
    "\n",
    "\n",
    "## Visão Geral do Projeto\n",
    "\n",
    "Neste projeto, irei bancar o detetive, e construirei um modelo de machine learning que visará determinar se um funcionário é ou não uma Person Of Interest  (POI). Um POI é um funcionário que participou do escândalo da Enron. Os dados são uma combinação de dados financeiros e dados de e-mails dos funcionários investigados neste caso de fraude, o que significa que eles foram indiciados, fecharam acordos com o governo, ou testemunharam em troca de imunidade no processo.\n",
    "\n",
    "\n",
    "\n",
    "\n",
    "## Etapas para o Sucesso\n",
    "\n",
    "Como etapa de pré-processamento deste projeto, foi combinado os dados da base \"Enron email and financial\" em um dicionário, onde cada par chave-valor corresponde a uma pessoa. A chave do dicionário é o nome da pessoa, e o valor é outro dicionário, que contém o nome de todos os atributos e seus valores para aquela pessoa. O dataset possue basicamente três tipos: atributos financeiros, de email e rótulos POI (pessoa de interesse).\n",
    "\n",
    "**atributos financeiros:** ['salary', 'deferral_payments', 'total_payments', 'loan_advances', 'bonus', 'restricted_stock_deferred', 'deferred_income', 'total_stock_value', 'expenses', 'exercised_stock_options', 'other', 'long_term_incentive', 'restricted_stock', 'director_fees'] (todos em dólares americanos (USD))\n",
    "\n",
    "**atributos de email:** ['to_messages', 'email_address', 'from_poi_to_this_person', 'from_messages', 'from_this_person_to_poi', 'shared_receipt_with_poi']     (as unidades aqui são geralmente em número de emails; a exceção notável aqui é o atributo ‘email_address’, que é uma string)\n",
    "\n",
    "**rótulo POI:** [‘poi’] (atributo objetivo lógico (booleano), representado como um inteiro)\n",
    "\n",
    "### Processo de construção e treinamento do modelo\n",
    "\n",
    "A construção do modelo preditivo seguirá um procecesso geral com as fases abaixo:\n",
    "\n",
    "   1. **Explorar os dados:** as fases podem, em alguns momentos, ser intercaladas entre si:\n",
    "           - Explorar as características dos dados.\n",
    "           - Explorar os dados estatisticamente.\n",
    "           - Identificar valores ausentes.\n",
    "           - Identificar ruídos nos dados(outliers).\n",
    "           - Explorar os dados visualmente.\n",
    "           - Estudar as distribuições dos atributos.\n",
    "           - Estudar possíveis correlações entre os atributos.\n",
    "   2. **Preparar os dados:**           \n",
    "           - Fixar ou remover ruídos.           \n",
    "           - Engenharia de atributos.\n",
    "           - Seleção de características(atributos)    \n",
    "           - Preencher valores ausentes(com média, zero...) ou removê-los.\n",
    "   3. **Escolha e Afinamento de um Modelo:**\n",
    "           1. Treinar uma variedade de classificadores.\n",
    "           2. Medir e comparar as performances.\n",
    "           3. Selecionar um modelo.\n",
    "           4. Afinar e Tunar o modelo.\n",
    "   4. **Avaliar e Validar:**\n",
    "           1. Feita em paralelo com a fase anterior."
   ]
  },
  {
   "cell_type": "markdown",
   "metadata": {},
   "source": [
    "## Importando as bibliotecas e os dados"
   ]
  },
  {
   "cell_type": "code",
   "execution_count": 2,
   "metadata": {},
   "outputs": [
    {
     "name": "stdout",
     "output_type": "stream",
     "text": [
      "Populating the interactive namespace from numpy and matplotlib\n"
     ]
    }
   ],
   "source": [
    "import sys\n",
    "import pickle\n",
    "import warnings\n",
    "import pandas as pd\n",
    "import matplotlib.pyplot as plt\n",
    "import seaborn as sns\n",
    "%matplotlib inline\n",
    "%pylab inline\n",
    "sys.path.append(\"tools/\")\n",
    "warnings.filterwarnings(action='ignore')\n",
    "# ================================================== #\n",
    "#               Classifiers                          #\n",
    "# ================================================== #\n",
    "from sklearn.tree import DecisionTreeClassifier\n",
    "from sklearn.ensemble import RandomForestClassifier, AdaBoostClassifier\n",
    "from sklearn.naive_bayes import GaussianNB\n",
    "from sklearn.neighbors import KNeighborsClassifier\n",
    "# ================================================== #\n",
    "#               Scaler and feature selection         #\n",
    "# ================================================== #\n",
    "from sklearn.preprocessing import MinMaxScaler\n",
    "from sklearn.feature_selection import SelectKBest\n",
    "from feature_format import featureFormat, targetFeatureSplit\n",
    "# ================================================== #\n",
    "#               Validation and Test                  #\n",
    "# ================================================== #\n",
    "from sklearn import cross_validation\n",
    "from tester import dump_classifier_and_data\n",
    "from sklearn.cross_validation import StratifiedShuffleSplit, train_test_split\n",
    "from tester import dump_classifier_and_data, test_classifier\n",
    "from sklearn.metrics import recall_score, precision_score, f1_score\n",
    "# ===================================================#\n",
    "from sklearn.pipeline import Pipeline\n",
    "from sklearn.grid_search import GridSearchCV\n",
    "from sklearn.metrics import accuracy_score\n",
    "from time import time\n",
    "\n",
    "with open(\"final_project_dataset.pkl\", \"r\") as data_file:\n",
    "    data_dict = pickle.load(data_file)\n",
    "    \n",
    "\n",
    "\n",
    "att_financial =  ['salary', 'deferral_payments', 'total_payments', 'loan_advances', \n",
    "                    'bonus',  'restricted_stock_deferred', 'deferred_income', \n",
    "                    'total_stock_value', 'expenses', 'exercised_stock_options', \n",
    "                    'other', 'long_term_incentive', 'restricted_stock', 'director_fees']\n",
    "\n",
    "att_email =  ['to_messages', 'email_address', 'from_poi_to_this_person', \n",
    "              'from_messages', 'from_this_person_to_poi', 'shared_receipt_with_poi']\n",
    "\n",
    "# ================================================== #\n",
    "#               Helper Functions                     #\n",
    "# ================================================== #\n",
    "def draw_scatter(dictionary, features):\n",
    "    \"\"\"Cria um scatterplot com destaque nos POIs se existir.\n",
    "    \n",
    "    \"\"\"\n",
    "    data = featureFormat(dictionary, features)\n",
    "    for point in data:\n",
    "        is_poi = bool(point[0])\n",
    "        axis_x = point[1]\n",
    "        axis_y = point[2]\n",
    "        if is_poi:\n",
    "            plt.scatter(axis_x, axis_y, 100, color=\"r\", marker=\".\", alpha=.4)\n",
    "        else:\n",
    "            plt.scatter(axis_x, axis_y, 100, color=\"b\", marker=\".\", alpha=.4)\n",
    "  \n",
    "    plt.xlabel(features[1])\n",
    "    plt.ylabel(features[2])\n",
    "    plt.show()"
   ]
  },
  {
   "cell_type": "markdown",
   "metadata": {},
   "source": [
    "# Fase 1: Explorar os dados\n",
    "\n",
    "Para maior facilidade na exploração dos dados, irei converter o dicionário em um dataframe do pandas."
   ]
  },
  {
   "cell_type": "code",
   "execution_count": 3,
   "metadata": {
    "collapsed": true
   },
   "outputs": [],
   "source": [
    "df = pd.DataFrame.from_records(data_dict).T.reset_index().rename({'index': 'nome'}, axis=1)\n",
    "df.replace(to_replace='NaN', value=numpy.nan, inplace=True)"
   ]
  },
  {
   "cell_type": "markdown",
   "metadata": {},
   "source": [
    "## Explorar as características dos dados"
   ]
  },
  {
   "cell_type": "markdown",
   "metadata": {},
   "source": [
    "### Tamanho do dataset"
   ]
  },
  {
   "cell_type": "code",
   "execution_count": 24,
   "metadata": {},
   "outputs": [
    {
     "name": "stdout",
     "output_type": "stream",
     "text": [
      "Existem 146 pessoas no dataset\n"
     ]
    }
   ],
   "source": [
    "print 'Existem %d pessoas no dataset' % len(df)"
   ]
  },
  {
   "cell_type": "markdown",
   "metadata": {},
   "source": [
    "### Nome das colunas"
   ]
  },
  {
   "cell_type": "code",
   "execution_count": 30,
   "metadata": {},
   "outputs": [
    {
     "data": {
      "text/plain": [
       "Index([u'nome', u'bonus', u'deferral_payments', u'deferred_income',\n",
       "       u'director_fees', u'email_address', u'exercised_stock_options',\n",
       "       u'expenses', u'from_messages', u'from_poi_to_this_person',\n",
       "       u'from_this_person_to_poi', u'loan_advances', u'long_term_incentive',\n",
       "       u'other', u'poi', u'restricted_stock', u'restricted_stock_deferred',\n",
       "       u'salary', u'shared_receipt_with_poi', u'to_messages',\n",
       "       u'total_payments', u'total_stock_value'],\n",
       "      dtype='object')"
      ]
     },
     "execution_count": 30,
     "metadata": {},
     "output_type": "execute_result"
    }
   ],
   "source": [
    "df.columns"
   ]
  },
  {
   "cell_type": "markdown",
   "metadata": {},
   "source": [
    "### Tipos dos dados"
   ]
  },
  {
   "cell_type": "code",
   "execution_count": 31,
   "metadata": {},
   "outputs": [
    {
     "name": "stdout",
     "output_type": "stream",
     "text": [
      "<class 'pandas.core.frame.DataFrame'>\n",
      "RangeIndex: 146 entries, 0 to 145\n",
      "Data columns (total 22 columns):\n",
      "nome                         146 non-null object\n",
      "bonus                        82 non-null float64\n",
      "deferral_payments            39 non-null float64\n",
      "deferred_income              49 non-null float64\n",
      "director_fees                17 non-null float64\n",
      "email_address                111 non-null object\n",
      "exercised_stock_options      102 non-null float64\n",
      "expenses                     95 non-null float64\n",
      "from_messages                86 non-null float64\n",
      "from_poi_to_this_person      86 non-null float64\n",
      "from_this_person_to_poi      86 non-null float64\n",
      "loan_advances                4 non-null float64\n",
      "long_term_incentive          66 non-null float64\n",
      "other                        93 non-null float64\n",
      "poi                          146 non-null bool\n",
      "restricted_stock             110 non-null float64\n",
      "restricted_stock_deferred    18 non-null float64\n",
      "salary                       95 non-null float64\n",
      "shared_receipt_with_poi      86 non-null float64\n",
      "to_messages                  86 non-null float64\n",
      "total_payments               125 non-null float64\n",
      "total_stock_value            126 non-null float64\n",
      "dtypes: bool(1), float64(19), object(2)\n",
      "memory usage: 24.2+ KB\n"
     ]
    }
   ],
   "source": [
    "df.info()"
   ]
  },
  {
   "cell_type": "markdown",
   "metadata": {},
   "source": [
    "### Dados ausentes"
   ]
  },
  {
   "cell_type": "code",
   "execution_count": 33,
   "metadata": {
    "scrolled": true
   },
   "outputs": [
    {
     "data": {
      "text/plain": [
       "nome                           0\n",
       "bonus                         64\n",
       "deferral_payments            107\n",
       "deferred_income               97\n",
       "director_fees                129\n",
       "email_address                 35\n",
       "exercised_stock_options       44\n",
       "expenses                      51\n",
       "from_messages                 60\n",
       "from_poi_to_this_person       60\n",
       "from_this_person_to_poi       60\n",
       "loan_advances                142\n",
       "long_term_incentive           80\n",
       "other                         53\n",
       "poi                            0\n",
       "restricted_stock              36\n",
       "restricted_stock_deferred    128\n",
       "salary                        51\n",
       "shared_receipt_with_poi       60\n",
       "to_messages                   60\n",
       "total_payments                21\n",
       "total_stock_value             20\n",
       "dtype: int64"
      ]
     },
     "execution_count": 33,
     "metadata": {},
     "output_type": "execute_result"
    }
   ],
   "source": [
    "pd.isnull(df).sum()"
   ]
  },
  {
   "cell_type": "markdown",
   "metadata": {},
   "source": [
    "Podemos perceber que existem atributos com muitos valores ausentes como, por exemplo, 'loan_advances'com 142, 'restricted_stock_deferred' com 128, 'director_fees' com 129 e 'deferral_payments' com 107. Nesse momento do projeto eu ainda não sei dizer o nível de importância desses atributos, mas se não forem muito importantes, já temos ótimos candidatos para serem descartados."
   ]
  },
  {
   "cell_type": "markdown",
   "metadata": {},
   "source": [
    "### Amostra dos dados"
   ]
  },
  {
   "cell_type": "code",
   "execution_count": 47,
   "metadata": {},
   "outputs": [
    {
     "data": {
      "text/html": [
       "<div>\n",
       "<style scoped>\n",
       "    .dataframe tbody tr th:only-of-type {\n",
       "        vertical-align: middle;\n",
       "    }\n",
       "\n",
       "    .dataframe tbody tr th {\n",
       "        vertical-align: top;\n",
       "    }\n",
       "\n",
       "    .dataframe thead th {\n",
       "        text-align: right;\n",
       "    }\n",
       "</style>\n",
       "<table border=\"1\" class=\"dataframe\">\n",
       "  <thead>\n",
       "    <tr style=\"text-align: right;\">\n",
       "      <th></th>\n",
       "      <th>nome</th>\n",
       "      <th>bonus</th>\n",
       "      <th>deferral_payments</th>\n",
       "      <th>deferred_income</th>\n",
       "      <th>director_fees</th>\n",
       "      <th>email_address</th>\n",
       "      <th>exercised_stock_options</th>\n",
       "      <th>expenses</th>\n",
       "      <th>from_messages</th>\n",
       "      <th>from_poi_to_this_person</th>\n",
       "      <th>...</th>\n",
       "      <th>long_term_incentive</th>\n",
       "      <th>other</th>\n",
       "      <th>poi</th>\n",
       "      <th>restricted_stock</th>\n",
       "      <th>restricted_stock_deferred</th>\n",
       "      <th>salary</th>\n",
       "      <th>shared_receipt_with_poi</th>\n",
       "      <th>to_messages</th>\n",
       "      <th>total_payments</th>\n",
       "      <th>total_stock_value</th>\n",
       "    </tr>\n",
       "  </thead>\n",
       "  <tbody>\n",
       "    <tr>\n",
       "      <th>0</th>\n",
       "      <td>ALLEN PHILLIP K</td>\n",
       "      <td>4175000.0</td>\n",
       "      <td>2869717.0</td>\n",
       "      <td>-3081055.0</td>\n",
       "      <td>NaN</td>\n",
       "      <td>phillip.allen@enron.com</td>\n",
       "      <td>1729541.0</td>\n",
       "      <td>13868.0</td>\n",
       "      <td>2195.0</td>\n",
       "      <td>47.0</td>\n",
       "      <td>...</td>\n",
       "      <td>304805.0</td>\n",
       "      <td>152.0</td>\n",
       "      <td>False</td>\n",
       "      <td>126027.0</td>\n",
       "      <td>-126027.0</td>\n",
       "      <td>201955.0</td>\n",
       "      <td>1407.0</td>\n",
       "      <td>2902.0</td>\n",
       "      <td>4484442.0</td>\n",
       "      <td>1729541.0</td>\n",
       "    </tr>\n",
       "    <tr>\n",
       "      <th>1</th>\n",
       "      <td>BADUM JAMES P</td>\n",
       "      <td>NaN</td>\n",
       "      <td>178980.0</td>\n",
       "      <td>NaN</td>\n",
       "      <td>NaN</td>\n",
       "      <td>NaN</td>\n",
       "      <td>257817.0</td>\n",
       "      <td>3486.0</td>\n",
       "      <td>NaN</td>\n",
       "      <td>NaN</td>\n",
       "      <td>...</td>\n",
       "      <td>NaN</td>\n",
       "      <td>NaN</td>\n",
       "      <td>False</td>\n",
       "      <td>NaN</td>\n",
       "      <td>NaN</td>\n",
       "      <td>NaN</td>\n",
       "      <td>NaN</td>\n",
       "      <td>NaN</td>\n",
       "      <td>182466.0</td>\n",
       "      <td>257817.0</td>\n",
       "    </tr>\n",
       "    <tr>\n",
       "      <th>2</th>\n",
       "      <td>BANNANTINE JAMES M</td>\n",
       "      <td>NaN</td>\n",
       "      <td>NaN</td>\n",
       "      <td>-5104.0</td>\n",
       "      <td>NaN</td>\n",
       "      <td>james.bannantine@enron.com</td>\n",
       "      <td>4046157.0</td>\n",
       "      <td>56301.0</td>\n",
       "      <td>29.0</td>\n",
       "      <td>39.0</td>\n",
       "      <td>...</td>\n",
       "      <td>NaN</td>\n",
       "      <td>864523.0</td>\n",
       "      <td>False</td>\n",
       "      <td>1757552.0</td>\n",
       "      <td>-560222.0</td>\n",
       "      <td>477.0</td>\n",
       "      <td>465.0</td>\n",
       "      <td>566.0</td>\n",
       "      <td>916197.0</td>\n",
       "      <td>5243487.0</td>\n",
       "    </tr>\n",
       "    <tr>\n",
       "      <th>3</th>\n",
       "      <td>BAXTER JOHN C</td>\n",
       "      <td>1200000.0</td>\n",
       "      <td>1295738.0</td>\n",
       "      <td>-1386055.0</td>\n",
       "      <td>NaN</td>\n",
       "      <td>NaN</td>\n",
       "      <td>6680544.0</td>\n",
       "      <td>11200.0</td>\n",
       "      <td>NaN</td>\n",
       "      <td>NaN</td>\n",
       "      <td>...</td>\n",
       "      <td>1586055.0</td>\n",
       "      <td>2660303.0</td>\n",
       "      <td>False</td>\n",
       "      <td>3942714.0</td>\n",
       "      <td>NaN</td>\n",
       "      <td>267102.0</td>\n",
       "      <td>NaN</td>\n",
       "      <td>NaN</td>\n",
       "      <td>5634343.0</td>\n",
       "      <td>10623258.0</td>\n",
       "    </tr>\n",
       "    <tr>\n",
       "      <th>4</th>\n",
       "      <td>BAY FRANKLIN R</td>\n",
       "      <td>400000.0</td>\n",
       "      <td>260455.0</td>\n",
       "      <td>-201641.0</td>\n",
       "      <td>NaN</td>\n",
       "      <td>frank.bay@enron.com</td>\n",
       "      <td>NaN</td>\n",
       "      <td>129142.0</td>\n",
       "      <td>NaN</td>\n",
       "      <td>NaN</td>\n",
       "      <td>...</td>\n",
       "      <td>NaN</td>\n",
       "      <td>69.0</td>\n",
       "      <td>False</td>\n",
       "      <td>145796.0</td>\n",
       "      <td>-82782.0</td>\n",
       "      <td>239671.0</td>\n",
       "      <td>NaN</td>\n",
       "      <td>NaN</td>\n",
       "      <td>827696.0</td>\n",
       "      <td>63014.0</td>\n",
       "    </tr>\n",
       "  </tbody>\n",
       "</table>\n",
       "<p>5 rows × 22 columns</p>\n",
       "</div>"
      ],
      "text/plain": [
       "                 nome      bonus  deferral_payments  deferred_income  \\\n",
       "0     ALLEN PHILLIP K  4175000.0          2869717.0       -3081055.0   \n",
       "1       BADUM JAMES P        NaN           178980.0              NaN   \n",
       "2  BANNANTINE JAMES M        NaN                NaN          -5104.0   \n",
       "3       BAXTER JOHN C  1200000.0          1295738.0       -1386055.0   \n",
       "4      BAY FRANKLIN R   400000.0           260455.0        -201641.0   \n",
       "\n",
       "   director_fees               email_address  exercised_stock_options  \\\n",
       "0            NaN     phillip.allen@enron.com                1729541.0   \n",
       "1            NaN                         NaN                 257817.0   \n",
       "2            NaN  james.bannantine@enron.com                4046157.0   \n",
       "3            NaN                         NaN                6680544.0   \n",
       "4            NaN         frank.bay@enron.com                      NaN   \n",
       "\n",
       "   expenses  from_messages  from_poi_to_this_person        ...          \\\n",
       "0   13868.0         2195.0                     47.0        ...           \n",
       "1    3486.0            NaN                      NaN        ...           \n",
       "2   56301.0           29.0                     39.0        ...           \n",
       "3   11200.0            NaN                      NaN        ...           \n",
       "4  129142.0            NaN                      NaN        ...           \n",
       "\n",
       "   long_term_incentive      other    poi  restricted_stock  \\\n",
       "0             304805.0      152.0  False          126027.0   \n",
       "1                  NaN        NaN  False               NaN   \n",
       "2                  NaN   864523.0  False         1757552.0   \n",
       "3            1586055.0  2660303.0  False         3942714.0   \n",
       "4                  NaN       69.0  False          145796.0   \n",
       "\n",
       "   restricted_stock_deferred    salary  shared_receipt_with_poi  to_messages  \\\n",
       "0                  -126027.0  201955.0                   1407.0       2902.0   \n",
       "1                        NaN       NaN                      NaN          NaN   \n",
       "2                  -560222.0     477.0                    465.0        566.0   \n",
       "3                        NaN  267102.0                      NaN          NaN   \n",
       "4                   -82782.0  239671.0                      NaN          NaN   \n",
       "\n",
       "   total_payments  total_stock_value  \n",
       "0       4484442.0          1729541.0  \n",
       "1        182466.0           257817.0  \n",
       "2        916197.0          5243487.0  \n",
       "3       5634343.0         10623258.0  \n",
       "4        827696.0            63014.0  \n",
       "\n",
       "[5 rows x 22 columns]"
      ]
     },
     "execution_count": 47,
     "metadata": {},
     "output_type": "execute_result"
    }
   ],
   "source": [
    "df.head()"
   ]
  },
  {
   "cell_type": "code",
   "execution_count": 48,
   "metadata": {},
   "outputs": [
    {
     "data": {
      "text/html": [
       "<div>\n",
       "<style scoped>\n",
       "    .dataframe tbody tr th:only-of-type {\n",
       "        vertical-align: middle;\n",
       "    }\n",
       "\n",
       "    .dataframe tbody tr th {\n",
       "        vertical-align: top;\n",
       "    }\n",
       "\n",
       "    .dataframe thead th {\n",
       "        text-align: right;\n",
       "    }\n",
       "</style>\n",
       "<table border=\"1\" class=\"dataframe\">\n",
       "  <thead>\n",
       "    <tr style=\"text-align: right;\">\n",
       "      <th></th>\n",
       "      <th>nome</th>\n",
       "      <th>bonus</th>\n",
       "      <th>deferral_payments</th>\n",
       "      <th>deferred_income</th>\n",
       "      <th>director_fees</th>\n",
       "      <th>email_address</th>\n",
       "      <th>exercised_stock_options</th>\n",
       "      <th>expenses</th>\n",
       "      <th>from_messages</th>\n",
       "      <th>from_poi_to_this_person</th>\n",
       "      <th>...</th>\n",
       "      <th>long_term_incentive</th>\n",
       "      <th>other</th>\n",
       "      <th>poi</th>\n",
       "      <th>restricted_stock</th>\n",
       "      <th>restricted_stock_deferred</th>\n",
       "      <th>salary</th>\n",
       "      <th>shared_receipt_with_poi</th>\n",
       "      <th>to_messages</th>\n",
       "      <th>total_payments</th>\n",
       "      <th>total_stock_value</th>\n",
       "    </tr>\n",
       "  </thead>\n",
       "  <tbody>\n",
       "    <tr>\n",
       "      <th>141</th>\n",
       "      <td>WINOKUR JR. HERBERT S</td>\n",
       "      <td>NaN</td>\n",
       "      <td>NaN</td>\n",
       "      <td>-25000.0</td>\n",
       "      <td>108579.0</td>\n",
       "      <td>NaN</td>\n",
       "      <td>NaN</td>\n",
       "      <td>1413.0</td>\n",
       "      <td>NaN</td>\n",
       "      <td>NaN</td>\n",
       "      <td>...</td>\n",
       "      <td>NaN</td>\n",
       "      <td>NaN</td>\n",
       "      <td>False</td>\n",
       "      <td>NaN</td>\n",
       "      <td>NaN</td>\n",
       "      <td>NaN</td>\n",
       "      <td>NaN</td>\n",
       "      <td>NaN</td>\n",
       "      <td>84992.0</td>\n",
       "      <td>NaN</td>\n",
       "    </tr>\n",
       "    <tr>\n",
       "      <th>142</th>\n",
       "      <td>WODRASKA JOHN</td>\n",
       "      <td>NaN</td>\n",
       "      <td>NaN</td>\n",
       "      <td>NaN</td>\n",
       "      <td>NaN</td>\n",
       "      <td>john.wodraska@enron.com</td>\n",
       "      <td>NaN</td>\n",
       "      <td>NaN</td>\n",
       "      <td>NaN</td>\n",
       "      <td>NaN</td>\n",
       "      <td>...</td>\n",
       "      <td>NaN</td>\n",
       "      <td>189583.0</td>\n",
       "      <td>False</td>\n",
       "      <td>NaN</td>\n",
       "      <td>NaN</td>\n",
       "      <td>NaN</td>\n",
       "      <td>NaN</td>\n",
       "      <td>NaN</td>\n",
       "      <td>189583.0</td>\n",
       "      <td>NaN</td>\n",
       "    </tr>\n",
       "    <tr>\n",
       "      <th>143</th>\n",
       "      <td>WROBEL BRUCE</td>\n",
       "      <td>NaN</td>\n",
       "      <td>NaN</td>\n",
       "      <td>NaN</td>\n",
       "      <td>NaN</td>\n",
       "      <td>NaN</td>\n",
       "      <td>139130.0</td>\n",
       "      <td>NaN</td>\n",
       "      <td>NaN</td>\n",
       "      <td>NaN</td>\n",
       "      <td>...</td>\n",
       "      <td>NaN</td>\n",
       "      <td>NaN</td>\n",
       "      <td>False</td>\n",
       "      <td>NaN</td>\n",
       "      <td>NaN</td>\n",
       "      <td>NaN</td>\n",
       "      <td>NaN</td>\n",
       "      <td>NaN</td>\n",
       "      <td>NaN</td>\n",
       "      <td>139130.0</td>\n",
       "    </tr>\n",
       "    <tr>\n",
       "      <th>144</th>\n",
       "      <td>YEAGER F SCOTT</td>\n",
       "      <td>NaN</td>\n",
       "      <td>NaN</td>\n",
       "      <td>NaN</td>\n",
       "      <td>NaN</td>\n",
       "      <td>scott.yeager@enron.com</td>\n",
       "      <td>8308552.0</td>\n",
       "      <td>53947.0</td>\n",
       "      <td>NaN</td>\n",
       "      <td>NaN</td>\n",
       "      <td>...</td>\n",
       "      <td>NaN</td>\n",
       "      <td>147950.0</td>\n",
       "      <td>True</td>\n",
       "      <td>3576206.0</td>\n",
       "      <td>NaN</td>\n",
       "      <td>158403.0</td>\n",
       "      <td>NaN</td>\n",
       "      <td>NaN</td>\n",
       "      <td>360300.0</td>\n",
       "      <td>11884758.0</td>\n",
       "    </tr>\n",
       "    <tr>\n",
       "      <th>145</th>\n",
       "      <td>YEAP SOON</td>\n",
       "      <td>NaN</td>\n",
       "      <td>NaN</td>\n",
       "      <td>NaN</td>\n",
       "      <td>NaN</td>\n",
       "      <td>NaN</td>\n",
       "      <td>192758.0</td>\n",
       "      <td>55097.0</td>\n",
       "      <td>NaN</td>\n",
       "      <td>NaN</td>\n",
       "      <td>...</td>\n",
       "      <td>NaN</td>\n",
       "      <td>NaN</td>\n",
       "      <td>False</td>\n",
       "      <td>NaN</td>\n",
       "      <td>NaN</td>\n",
       "      <td>NaN</td>\n",
       "      <td>NaN</td>\n",
       "      <td>NaN</td>\n",
       "      <td>55097.0</td>\n",
       "      <td>192758.0</td>\n",
       "    </tr>\n",
       "  </tbody>\n",
       "</table>\n",
       "<p>5 rows × 22 columns</p>\n",
       "</div>"
      ],
      "text/plain": [
       "                      nome  bonus  deferral_payments  deferred_income  \\\n",
       "141  WINOKUR JR. HERBERT S    NaN                NaN         -25000.0   \n",
       "142          WODRASKA JOHN    NaN                NaN              NaN   \n",
       "143           WROBEL BRUCE    NaN                NaN              NaN   \n",
       "144         YEAGER F SCOTT    NaN                NaN              NaN   \n",
       "145              YEAP SOON    NaN                NaN              NaN   \n",
       "\n",
       "     director_fees            email_address  exercised_stock_options  \\\n",
       "141       108579.0                      NaN                      NaN   \n",
       "142            NaN  john.wodraska@enron.com                      NaN   \n",
       "143            NaN                      NaN                 139130.0   \n",
       "144            NaN   scott.yeager@enron.com                8308552.0   \n",
       "145            NaN                      NaN                 192758.0   \n",
       "\n",
       "     expenses  from_messages  from_poi_to_this_person        ...          \\\n",
       "141    1413.0            NaN                      NaN        ...           \n",
       "142       NaN            NaN                      NaN        ...           \n",
       "143       NaN            NaN                      NaN        ...           \n",
       "144   53947.0            NaN                      NaN        ...           \n",
       "145   55097.0            NaN                      NaN        ...           \n",
       "\n",
       "     long_term_incentive     other    poi  restricted_stock  \\\n",
       "141                  NaN       NaN  False               NaN   \n",
       "142                  NaN  189583.0  False               NaN   \n",
       "143                  NaN       NaN  False               NaN   \n",
       "144                  NaN  147950.0   True         3576206.0   \n",
       "145                  NaN       NaN  False               NaN   \n",
       "\n",
       "     restricted_stock_deferred    salary  shared_receipt_with_poi  \\\n",
       "141                        NaN       NaN                      NaN   \n",
       "142                        NaN       NaN                      NaN   \n",
       "143                        NaN       NaN                      NaN   \n",
       "144                        NaN  158403.0                      NaN   \n",
       "145                        NaN       NaN                      NaN   \n",
       "\n",
       "     to_messages  total_payments  total_stock_value  \n",
       "141          NaN         84992.0                NaN  \n",
       "142          NaN        189583.0                NaN  \n",
       "143          NaN             NaN           139130.0  \n",
       "144          NaN        360300.0         11884758.0  \n",
       "145          NaN         55097.0           192758.0  \n",
       "\n",
       "[5 rows x 22 columns]"
      ]
     },
     "execution_count": 48,
     "metadata": {},
     "output_type": "execute_result"
    }
   ],
   "source": [
    "df.tail()"
   ]
  },
  {
   "cell_type": "markdown",
   "metadata": {},
   "source": [
    "## Explorar os dados estatisticamente"
   ]
  },
  {
   "cell_type": "markdown",
   "metadata": {},
   "source": [
    "### Visão estatística do dataset completo"
   ]
  },
  {
   "cell_type": "code",
   "execution_count": 49,
   "metadata": {},
   "outputs": [
    {
     "data": {
      "text/html": [
       "<div>\n",
       "<style scoped>\n",
       "    .dataframe tbody tr th:only-of-type {\n",
       "        vertical-align: middle;\n",
       "    }\n",
       "\n",
       "    .dataframe tbody tr th {\n",
       "        vertical-align: top;\n",
       "    }\n",
       "\n",
       "    .dataframe thead th {\n",
       "        text-align: right;\n",
       "    }\n",
       "</style>\n",
       "<table border=\"1\" class=\"dataframe\">\n",
       "  <thead>\n",
       "    <tr style=\"text-align: right;\">\n",
       "      <th></th>\n",
       "      <th>bonus</th>\n",
       "      <th>deferral_payments</th>\n",
       "      <th>deferred_income</th>\n",
       "      <th>director_fees</th>\n",
       "      <th>exercised_stock_options</th>\n",
       "      <th>expenses</th>\n",
       "      <th>from_messages</th>\n",
       "      <th>from_poi_to_this_person</th>\n",
       "      <th>from_this_person_to_poi</th>\n",
       "      <th>loan_advances</th>\n",
       "      <th>long_term_incentive</th>\n",
       "      <th>other</th>\n",
       "      <th>restricted_stock</th>\n",
       "      <th>restricted_stock_deferred</th>\n",
       "      <th>salary</th>\n",
       "      <th>shared_receipt_with_poi</th>\n",
       "      <th>to_messages</th>\n",
       "      <th>total_payments</th>\n",
       "      <th>total_stock_value</th>\n",
       "    </tr>\n",
       "  </thead>\n",
       "  <tbody>\n",
       "    <tr>\n",
       "      <th>count</th>\n",
       "      <td>8.200000e+01</td>\n",
       "      <td>3.900000e+01</td>\n",
       "      <td>4.900000e+01</td>\n",
       "      <td>1.700000e+01</td>\n",
       "      <td>1.020000e+02</td>\n",
       "      <td>9.500000e+01</td>\n",
       "      <td>86.000000</td>\n",
       "      <td>86.000000</td>\n",
       "      <td>86.000000</td>\n",
       "      <td>4.000000e+00</td>\n",
       "      <td>6.600000e+01</td>\n",
       "      <td>9.300000e+01</td>\n",
       "      <td>1.100000e+02</td>\n",
       "      <td>1.800000e+01</td>\n",
       "      <td>9.500000e+01</td>\n",
       "      <td>86.000000</td>\n",
       "      <td>86.000000</td>\n",
       "      <td>1.250000e+02</td>\n",
       "      <td>1.260000e+02</td>\n",
       "    </tr>\n",
       "    <tr>\n",
       "      <th>mean</th>\n",
       "      <td>2.374235e+06</td>\n",
       "      <td>1.642674e+06</td>\n",
       "      <td>-1.140475e+06</td>\n",
       "      <td>1.668049e+05</td>\n",
       "      <td>5.987054e+06</td>\n",
       "      <td>1.087289e+05</td>\n",
       "      <td>608.790698</td>\n",
       "      <td>64.895349</td>\n",
       "      <td>41.232558</td>\n",
       "      <td>4.196250e+07</td>\n",
       "      <td>1.470361e+06</td>\n",
       "      <td>9.190650e+05</td>\n",
       "      <td>2.321741e+06</td>\n",
       "      <td>1.664106e+05</td>\n",
       "      <td>5.621943e+05</td>\n",
       "      <td>1176.465116</td>\n",
       "      <td>2073.860465</td>\n",
       "      <td>5.081526e+06</td>\n",
       "      <td>6.773957e+06</td>\n",
       "    </tr>\n",
       "    <tr>\n",
       "      <th>std</th>\n",
       "      <td>1.071333e+07</td>\n",
       "      <td>5.161930e+06</td>\n",
       "      <td>4.025406e+06</td>\n",
       "      <td>3.198914e+05</td>\n",
       "      <td>3.106201e+07</td>\n",
       "      <td>5.335348e+05</td>\n",
       "      <td>1841.033949</td>\n",
       "      <td>86.979244</td>\n",
       "      <td>100.073111</td>\n",
       "      <td>4.708321e+07</td>\n",
       "      <td>5.942759e+06</td>\n",
       "      <td>4.589253e+06</td>\n",
       "      <td>1.251828e+07</td>\n",
       "      <td>4.201494e+06</td>\n",
       "      <td>2.716369e+06</td>\n",
       "      <td>1178.317641</td>\n",
       "      <td>2582.700981</td>\n",
       "      <td>2.906172e+07</td>\n",
       "      <td>3.895777e+07</td>\n",
       "    </tr>\n",
       "    <tr>\n",
       "      <th>min</th>\n",
       "      <td>7.000000e+04</td>\n",
       "      <td>-1.025000e+05</td>\n",
       "      <td>-2.799289e+07</td>\n",
       "      <td>3.285000e+03</td>\n",
       "      <td>3.285000e+03</td>\n",
       "      <td>1.480000e+02</td>\n",
       "      <td>12.000000</td>\n",
       "      <td>0.000000</td>\n",
       "      <td>0.000000</td>\n",
       "      <td>4.000000e+05</td>\n",
       "      <td>6.922300e+04</td>\n",
       "      <td>2.000000e+00</td>\n",
       "      <td>-2.604490e+06</td>\n",
       "      <td>-7.576788e+06</td>\n",
       "      <td>4.770000e+02</td>\n",
       "      <td>2.000000</td>\n",
       "      <td>57.000000</td>\n",
       "      <td>1.480000e+02</td>\n",
       "      <td>-4.409300e+04</td>\n",
       "    </tr>\n",
       "    <tr>\n",
       "      <th>25%</th>\n",
       "      <td>4.312500e+05</td>\n",
       "      <td>8.157300e+04</td>\n",
       "      <td>-6.948620e+05</td>\n",
       "      <td>9.878400e+04</td>\n",
       "      <td>5.278862e+05</td>\n",
       "      <td>2.261400e+04</td>\n",
       "      <td>22.750000</td>\n",
       "      <td>10.000000</td>\n",
       "      <td>1.000000</td>\n",
       "      <td>1.600000e+06</td>\n",
       "      <td>2.812500e+05</td>\n",
       "      <td>1.215000e+03</td>\n",
       "      <td>2.540180e+05</td>\n",
       "      <td>-3.896218e+05</td>\n",
       "      <td>2.118160e+05</td>\n",
       "      <td>249.750000</td>\n",
       "      <td>541.250000</td>\n",
       "      <td>3.944750e+05</td>\n",
       "      <td>4.945102e+05</td>\n",
       "    </tr>\n",
       "    <tr>\n",
       "      <th>50%</th>\n",
       "      <td>7.693750e+05</td>\n",
       "      <td>2.274490e+05</td>\n",
       "      <td>-1.597920e+05</td>\n",
       "      <td>1.085790e+05</td>\n",
       "      <td>1.310814e+06</td>\n",
       "      <td>4.695000e+04</td>\n",
       "      <td>41.000000</td>\n",
       "      <td>35.000000</td>\n",
       "      <td>8.000000</td>\n",
       "      <td>4.176250e+07</td>\n",
       "      <td>4.420350e+05</td>\n",
       "      <td>5.238200e+04</td>\n",
       "      <td>4.517400e+05</td>\n",
       "      <td>-1.469750e+05</td>\n",
       "      <td>2.599960e+05</td>\n",
       "      <td>740.500000</td>\n",
       "      <td>1211.000000</td>\n",
       "      <td>1.101393e+06</td>\n",
       "      <td>1.102872e+06</td>\n",
       "    </tr>\n",
       "    <tr>\n",
       "      <th>75%</th>\n",
       "      <td>1.200000e+06</td>\n",
       "      <td>1.002672e+06</td>\n",
       "      <td>-3.834600e+04</td>\n",
       "      <td>1.137840e+05</td>\n",
       "      <td>2.547724e+06</td>\n",
       "      <td>7.995250e+04</td>\n",
       "      <td>145.500000</td>\n",
       "      <td>72.250000</td>\n",
       "      <td>24.750000</td>\n",
       "      <td>8.212500e+07</td>\n",
       "      <td>9.386720e+05</td>\n",
       "      <td>3.620960e+05</td>\n",
       "      <td>1.002370e+06</td>\n",
       "      <td>-7.500975e+04</td>\n",
       "      <td>3.121170e+05</td>\n",
       "      <td>1888.250000</td>\n",
       "      <td>2634.750000</td>\n",
       "      <td>2.093263e+06</td>\n",
       "      <td>2.949847e+06</td>\n",
       "    </tr>\n",
       "    <tr>\n",
       "      <th>max</th>\n",
       "      <td>9.734362e+07</td>\n",
       "      <td>3.208340e+07</td>\n",
       "      <td>-8.330000e+02</td>\n",
       "      <td>1.398517e+06</td>\n",
       "      <td>3.117640e+08</td>\n",
       "      <td>5.235198e+06</td>\n",
       "      <td>14368.000000</td>\n",
       "      <td>528.000000</td>\n",
       "      <td>609.000000</td>\n",
       "      <td>8.392500e+07</td>\n",
       "      <td>4.852193e+07</td>\n",
       "      <td>4.266759e+07</td>\n",
       "      <td>1.303223e+08</td>\n",
       "      <td>1.545629e+07</td>\n",
       "      <td>2.670423e+07</td>\n",
       "      <td>5521.000000</td>\n",
       "      <td>15149.000000</td>\n",
       "      <td>3.098866e+08</td>\n",
       "      <td>4.345095e+08</td>\n",
       "    </tr>\n",
       "  </tbody>\n",
       "</table>\n",
       "</div>"
      ],
      "text/plain": [
       "              bonus  deferral_payments  deferred_income  director_fees  \\\n",
       "count  8.200000e+01       3.900000e+01     4.900000e+01   1.700000e+01   \n",
       "mean   2.374235e+06       1.642674e+06    -1.140475e+06   1.668049e+05   \n",
       "std    1.071333e+07       5.161930e+06     4.025406e+06   3.198914e+05   \n",
       "min    7.000000e+04      -1.025000e+05    -2.799289e+07   3.285000e+03   \n",
       "25%    4.312500e+05       8.157300e+04    -6.948620e+05   9.878400e+04   \n",
       "50%    7.693750e+05       2.274490e+05    -1.597920e+05   1.085790e+05   \n",
       "75%    1.200000e+06       1.002672e+06    -3.834600e+04   1.137840e+05   \n",
       "max    9.734362e+07       3.208340e+07    -8.330000e+02   1.398517e+06   \n",
       "\n",
       "       exercised_stock_options      expenses  from_messages  \\\n",
       "count             1.020000e+02  9.500000e+01      86.000000   \n",
       "mean              5.987054e+06  1.087289e+05     608.790698   \n",
       "std               3.106201e+07  5.335348e+05    1841.033949   \n",
       "min               3.285000e+03  1.480000e+02      12.000000   \n",
       "25%               5.278862e+05  2.261400e+04      22.750000   \n",
       "50%               1.310814e+06  4.695000e+04      41.000000   \n",
       "75%               2.547724e+06  7.995250e+04     145.500000   \n",
       "max               3.117640e+08  5.235198e+06   14368.000000   \n",
       "\n",
       "       from_poi_to_this_person  from_this_person_to_poi  loan_advances  \\\n",
       "count                86.000000                86.000000   4.000000e+00   \n",
       "mean                 64.895349                41.232558   4.196250e+07   \n",
       "std                  86.979244               100.073111   4.708321e+07   \n",
       "min                   0.000000                 0.000000   4.000000e+05   \n",
       "25%                  10.000000                 1.000000   1.600000e+06   \n",
       "50%                  35.000000                 8.000000   4.176250e+07   \n",
       "75%                  72.250000                24.750000   8.212500e+07   \n",
       "max                 528.000000               609.000000   8.392500e+07   \n",
       "\n",
       "       long_term_incentive         other  restricted_stock  \\\n",
       "count         6.600000e+01  9.300000e+01      1.100000e+02   \n",
       "mean          1.470361e+06  9.190650e+05      2.321741e+06   \n",
       "std           5.942759e+06  4.589253e+06      1.251828e+07   \n",
       "min           6.922300e+04  2.000000e+00     -2.604490e+06   \n",
       "25%           2.812500e+05  1.215000e+03      2.540180e+05   \n",
       "50%           4.420350e+05  5.238200e+04      4.517400e+05   \n",
       "75%           9.386720e+05  3.620960e+05      1.002370e+06   \n",
       "max           4.852193e+07  4.266759e+07      1.303223e+08   \n",
       "\n",
       "       restricted_stock_deferred        salary  shared_receipt_with_poi  \\\n",
       "count               1.800000e+01  9.500000e+01                86.000000   \n",
       "mean                1.664106e+05  5.621943e+05              1176.465116   \n",
       "std                 4.201494e+06  2.716369e+06              1178.317641   \n",
       "min                -7.576788e+06  4.770000e+02                 2.000000   \n",
       "25%                -3.896218e+05  2.118160e+05               249.750000   \n",
       "50%                -1.469750e+05  2.599960e+05               740.500000   \n",
       "75%                -7.500975e+04  3.121170e+05              1888.250000   \n",
       "max                 1.545629e+07  2.670423e+07              5521.000000   \n",
       "\n",
       "        to_messages  total_payments  total_stock_value  \n",
       "count     86.000000    1.250000e+02       1.260000e+02  \n",
       "mean    2073.860465    5.081526e+06       6.773957e+06  \n",
       "std     2582.700981    2.906172e+07       3.895777e+07  \n",
       "min       57.000000    1.480000e+02      -4.409300e+04  \n",
       "25%      541.250000    3.944750e+05       4.945102e+05  \n",
       "50%     1211.000000    1.101393e+06       1.102872e+06  \n",
       "75%     2634.750000    2.093263e+06       2.949847e+06  \n",
       "max    15149.000000    3.098866e+08       4.345095e+08  "
      ]
     },
     "execution_count": 49,
     "metadata": {},
     "output_type": "execute_result"
    }
   ],
   "source": [
    "df.describe()"
   ]
  },
  {
   "cell_type": "markdown",
   "metadata": {},
   "source": [
    "### Visão estatística dos POI"
   ]
  },
  {
   "cell_type": "code",
   "execution_count": 52,
   "metadata": {},
   "outputs": [
    {
     "data": {
      "text/html": [
       "<div>\n",
       "<style scoped>\n",
       "    .dataframe tbody tr th:only-of-type {\n",
       "        vertical-align: middle;\n",
       "    }\n",
       "\n",
       "    .dataframe tbody tr th {\n",
       "        vertical-align: top;\n",
       "    }\n",
       "\n",
       "    .dataframe thead th {\n",
       "        text-align: right;\n",
       "    }\n",
       "</style>\n",
       "<table border=\"1\" class=\"dataframe\">\n",
       "  <thead>\n",
       "    <tr style=\"text-align: right;\">\n",
       "      <th></th>\n",
       "      <th>bonus</th>\n",
       "      <th>deferral_payments</th>\n",
       "      <th>deferred_income</th>\n",
       "      <th>director_fees</th>\n",
       "      <th>exercised_stock_options</th>\n",
       "      <th>expenses</th>\n",
       "      <th>from_messages</th>\n",
       "      <th>from_poi_to_this_person</th>\n",
       "      <th>from_this_person_to_poi</th>\n",
       "      <th>loan_advances</th>\n",
       "      <th>long_term_incentive</th>\n",
       "      <th>other</th>\n",
       "      <th>restricted_stock</th>\n",
       "      <th>restricted_stock_deferred</th>\n",
       "      <th>salary</th>\n",
       "      <th>shared_receipt_with_poi</th>\n",
       "      <th>to_messages</th>\n",
       "      <th>total_payments</th>\n",
       "      <th>total_stock_value</th>\n",
       "    </tr>\n",
       "  </thead>\n",
       "  <tbody>\n",
       "    <tr>\n",
       "      <th>count</th>\n",
       "      <td>1.600000e+01</td>\n",
       "      <td>5.000000e+00</td>\n",
       "      <td>1.100000e+01</td>\n",
       "      <td>0.0</td>\n",
       "      <td>1.200000e+01</td>\n",
       "      <td>18.000000</td>\n",
       "      <td>14.000000</td>\n",
       "      <td>14.000000</td>\n",
       "      <td>14.000000</td>\n",
       "      <td>1.0</td>\n",
       "      <td>1.200000e+01</td>\n",
       "      <td>1.800000e+01</td>\n",
       "      <td>1.700000e+01</td>\n",
       "      <td>0.0</td>\n",
       "      <td>1.700000e+01</td>\n",
       "      <td>14.000000</td>\n",
       "      <td>14.000000</td>\n",
       "      <td>1.800000e+01</td>\n",
       "      <td>1.800000e+01</td>\n",
       "    </tr>\n",
       "    <tr>\n",
       "      <th>mean</th>\n",
       "      <td>2.075000e+06</td>\n",
       "      <td>5.198942e+05</td>\n",
       "      <td>-1.035313e+06</td>\n",
       "      <td>NaN</td>\n",
       "      <td>1.046379e+07</td>\n",
       "      <td>59873.833333</td>\n",
       "      <td>300.357143</td>\n",
       "      <td>97.785714</td>\n",
       "      <td>66.714286</td>\n",
       "      <td>81525000.0</td>\n",
       "      <td>1.204862e+06</td>\n",
       "      <td>8.029974e+05</td>\n",
       "      <td>2.318621e+06</td>\n",
       "      <td>NaN</td>\n",
       "      <td>3.834449e+05</td>\n",
       "      <td>1783.000000</td>\n",
       "      <td>2417.142857</td>\n",
       "      <td>7.913590e+06</td>\n",
       "      <td>9.165671e+06</td>\n",
       "    </tr>\n",
       "    <tr>\n",
       "      <th>std</th>\n",
       "      <td>2.047437e+06</td>\n",
       "      <td>9.128895e+05</td>\n",
       "      <td>1.334972e+06</td>\n",
       "      <td>NaN</td>\n",
       "      <td>1.238259e+07</td>\n",
       "      <td>37524.658812</td>\n",
       "      <td>805.844574</td>\n",
       "      <td>76.058862</td>\n",
       "      <td>158.289622</td>\n",
       "      <td>NaN</td>\n",
       "      <td>9.916583e+05</td>\n",
       "      <td>2.417568e+06</td>\n",
       "      <td>3.620811e+06</td>\n",
       "      <td>NaN</td>\n",
       "      <td>2.783597e+05</td>\n",
       "      <td>1264.996625</td>\n",
       "      <td>1961.858101</td>\n",
       "      <td>2.396549e+07</td>\n",
       "      <td>1.384117e+07</td>\n",
       "    </tr>\n",
       "    <tr>\n",
       "      <th>min</th>\n",
       "      <td>2.000000e+05</td>\n",
       "      <td>1.025900e+04</td>\n",
       "      <td>-3.504386e+06</td>\n",
       "      <td>NaN</td>\n",
       "      <td>3.847280e+05</td>\n",
       "      <td>16514.000000</td>\n",
       "      <td>16.000000</td>\n",
       "      <td>13.000000</td>\n",
       "      <td>4.000000</td>\n",
       "      <td>81525000.0</td>\n",
       "      <td>7.102300e+04</td>\n",
       "      <td>4.860000e+02</td>\n",
       "      <td>1.260270e+05</td>\n",
       "      <td>NaN</td>\n",
       "      <td>1.584030e+05</td>\n",
       "      <td>91.000000</td>\n",
       "      <td>225.000000</td>\n",
       "      <td>9.109300e+04</td>\n",
       "      <td>1.260270e+05</td>\n",
       "    </tr>\n",
       "    <tr>\n",
       "      <th>25%</th>\n",
       "      <td>7.750000e+05</td>\n",
       "      <td>2.761000e+04</td>\n",
       "      <td>-1.860244e+06</td>\n",
       "      <td>NaN</td>\n",
       "      <td>1.456581e+06</td>\n",
       "      <td>31323.250000</td>\n",
       "      <td>33.000000</td>\n",
       "      <td>44.500000</td>\n",
       "      <td>12.500000</td>\n",
       "      <td>81525000.0</td>\n",
       "      <td>3.689780e+05</td>\n",
       "      <td>4.979500e+03</td>\n",
       "      <td>3.938180e+05</td>\n",
       "      <td>NaN</td>\n",
       "      <td>2.401890e+05</td>\n",
       "      <td>1059.250000</td>\n",
       "      <td>1115.750000</td>\n",
       "      <td>1.142396e+06</td>\n",
       "      <td>1.016450e+06</td>\n",
       "    </tr>\n",
       "    <tr>\n",
       "      <th>50%</th>\n",
       "      <td>1.275000e+06</td>\n",
       "      <td>2.029110e+05</td>\n",
       "      <td>-2.625000e+05</td>\n",
       "      <td>NaN</td>\n",
       "      <td>3.914557e+06</td>\n",
       "      <td>50448.500000</td>\n",
       "      <td>44.500000</td>\n",
       "      <td>62.000000</td>\n",
       "      <td>15.500000</td>\n",
       "      <td>81525000.0</td>\n",
       "      <td>1.134637e+06</td>\n",
       "      <td>1.492040e+05</td>\n",
       "      <td>9.850320e+05</td>\n",
       "      <td>NaN</td>\n",
       "      <td>2.786010e+05</td>\n",
       "      <td>1589.000000</td>\n",
       "      <td>1875.000000</td>\n",
       "      <td>1.754028e+06</td>\n",
       "      <td>2.206836e+06</td>\n",
       "    </tr>\n",
       "    <tr>\n",
       "      <th>75%</th>\n",
       "      <td>2.062500e+06</td>\n",
       "      <td>2.146780e+05</td>\n",
       "      <td>-1.220310e+05</td>\n",
       "      <td>NaN</td>\n",
       "      <td>1.938604e+07</td>\n",
       "      <td>84125.000000</td>\n",
       "      <td>101.500000</td>\n",
       "      <td>135.750000</td>\n",
       "      <td>28.750000</td>\n",
       "      <td>81525000.0</td>\n",
       "      <td>1.646772e+06</td>\n",
       "      <td>2.607725e+05</td>\n",
       "      <td>2.502063e+06</td>\n",
       "      <td>NaN</td>\n",
       "      <td>4.151890e+05</td>\n",
       "      <td>2165.250000</td>\n",
       "      <td>2969.250000</td>\n",
       "      <td>2.665345e+06</td>\n",
       "      <td>1.051133e+07</td>\n",
       "    </tr>\n",
       "    <tr>\n",
       "      <th>max</th>\n",
       "      <td>7.000000e+06</td>\n",
       "      <td>2.144013e+06</td>\n",
       "      <td>-8.330000e+02</td>\n",
       "      <td>NaN</td>\n",
       "      <td>3.434838e+07</td>\n",
       "      <td>127017.000000</td>\n",
       "      <td>3069.000000</td>\n",
       "      <td>240.000000</td>\n",
       "      <td>609.000000</td>\n",
       "      <td>81525000.0</td>\n",
       "      <td>3.600000e+06</td>\n",
       "      <td>1.035973e+07</td>\n",
       "      <td>1.476169e+07</td>\n",
       "      <td>NaN</td>\n",
       "      <td>1.111258e+06</td>\n",
       "      <td>5521.000000</td>\n",
       "      <td>7991.000000</td>\n",
       "      <td>1.035598e+08</td>\n",
       "      <td>4.911008e+07</td>\n",
       "    </tr>\n",
       "  </tbody>\n",
       "</table>\n",
       "</div>"
      ],
      "text/plain": [
       "              bonus  deferral_payments  deferred_income  director_fees  \\\n",
       "count  1.600000e+01       5.000000e+00     1.100000e+01            0.0   \n",
       "mean   2.075000e+06       5.198942e+05    -1.035313e+06            NaN   \n",
       "std    2.047437e+06       9.128895e+05     1.334972e+06            NaN   \n",
       "min    2.000000e+05       1.025900e+04    -3.504386e+06            NaN   \n",
       "25%    7.750000e+05       2.761000e+04    -1.860244e+06            NaN   \n",
       "50%    1.275000e+06       2.029110e+05    -2.625000e+05            NaN   \n",
       "75%    2.062500e+06       2.146780e+05    -1.220310e+05            NaN   \n",
       "max    7.000000e+06       2.144013e+06    -8.330000e+02            NaN   \n",
       "\n",
       "       exercised_stock_options       expenses  from_messages  \\\n",
       "count             1.200000e+01      18.000000      14.000000   \n",
       "mean              1.046379e+07   59873.833333     300.357143   \n",
       "std               1.238259e+07   37524.658812     805.844574   \n",
       "min               3.847280e+05   16514.000000      16.000000   \n",
       "25%               1.456581e+06   31323.250000      33.000000   \n",
       "50%               3.914557e+06   50448.500000      44.500000   \n",
       "75%               1.938604e+07   84125.000000     101.500000   \n",
       "max               3.434838e+07  127017.000000    3069.000000   \n",
       "\n",
       "       from_poi_to_this_person  from_this_person_to_poi  loan_advances  \\\n",
       "count                14.000000                14.000000            1.0   \n",
       "mean                 97.785714                66.714286     81525000.0   \n",
       "std                  76.058862               158.289622            NaN   \n",
       "min                  13.000000                 4.000000     81525000.0   \n",
       "25%                  44.500000                12.500000     81525000.0   \n",
       "50%                  62.000000                15.500000     81525000.0   \n",
       "75%                 135.750000                28.750000     81525000.0   \n",
       "max                 240.000000               609.000000     81525000.0   \n",
       "\n",
       "       long_term_incentive         other  restricted_stock  \\\n",
       "count         1.200000e+01  1.800000e+01      1.700000e+01   \n",
       "mean          1.204862e+06  8.029974e+05      2.318621e+06   \n",
       "std           9.916583e+05  2.417568e+06      3.620811e+06   \n",
       "min           7.102300e+04  4.860000e+02      1.260270e+05   \n",
       "25%           3.689780e+05  4.979500e+03      3.938180e+05   \n",
       "50%           1.134637e+06  1.492040e+05      9.850320e+05   \n",
       "75%           1.646772e+06  2.607725e+05      2.502063e+06   \n",
       "max           3.600000e+06  1.035973e+07      1.476169e+07   \n",
       "\n",
       "       restricted_stock_deferred        salary  shared_receipt_with_poi  \\\n",
       "count                        0.0  1.700000e+01                14.000000   \n",
       "mean                         NaN  3.834449e+05              1783.000000   \n",
       "std                          NaN  2.783597e+05              1264.996625   \n",
       "min                          NaN  1.584030e+05                91.000000   \n",
       "25%                          NaN  2.401890e+05              1059.250000   \n",
       "50%                          NaN  2.786010e+05              1589.000000   \n",
       "75%                          NaN  4.151890e+05              2165.250000   \n",
       "max                          NaN  1.111258e+06              5521.000000   \n",
       "\n",
       "       to_messages  total_payments  total_stock_value  \n",
       "count    14.000000    1.800000e+01       1.800000e+01  \n",
       "mean   2417.142857    7.913590e+06       9.165671e+06  \n",
       "std    1961.858101    2.396549e+07       1.384117e+07  \n",
       "min     225.000000    9.109300e+04       1.260270e+05  \n",
       "25%    1115.750000    1.142396e+06       1.016450e+06  \n",
       "50%    1875.000000    1.754028e+06       2.206836e+06  \n",
       "75%    2969.250000    2.665345e+06       1.051133e+07  \n",
       "max    7991.000000    1.035598e+08       4.911008e+07  "
      ]
     },
     "execution_count": 52,
     "metadata": {},
     "output_type": "execute_result"
    }
   ],
   "source": [
    "df[df.poi.isin([True])].describe()"
   ]
  },
  {
   "cell_type": "markdown",
   "metadata": {},
   "source": [
    "### Visão estatística dos não POI"
   ]
  },
  {
   "cell_type": "code",
   "execution_count": 54,
   "metadata": {},
   "outputs": [
    {
     "data": {
      "text/html": [
       "<div>\n",
       "<style scoped>\n",
       "    .dataframe tbody tr th:only-of-type {\n",
       "        vertical-align: middle;\n",
       "    }\n",
       "\n",
       "    .dataframe tbody tr th {\n",
       "        vertical-align: top;\n",
       "    }\n",
       "\n",
       "    .dataframe thead th {\n",
       "        text-align: right;\n",
       "    }\n",
       "</style>\n",
       "<table border=\"1\" class=\"dataframe\">\n",
       "  <thead>\n",
       "    <tr style=\"text-align: right;\">\n",
       "      <th></th>\n",
       "      <th>bonus</th>\n",
       "      <th>deferral_payments</th>\n",
       "      <th>deferred_income</th>\n",
       "      <th>director_fees</th>\n",
       "      <th>exercised_stock_options</th>\n",
       "      <th>expenses</th>\n",
       "      <th>from_messages</th>\n",
       "      <th>from_poi_to_this_person</th>\n",
       "      <th>from_this_person_to_poi</th>\n",
       "      <th>loan_advances</th>\n",
       "      <th>long_term_incentive</th>\n",
       "      <th>other</th>\n",
       "      <th>restricted_stock</th>\n",
       "      <th>restricted_stock_deferred</th>\n",
       "      <th>salary</th>\n",
       "      <th>shared_receipt_with_poi</th>\n",
       "      <th>to_messages</th>\n",
       "      <th>total_payments</th>\n",
       "      <th>total_stock_value</th>\n",
       "    </tr>\n",
       "  </thead>\n",
       "  <tbody>\n",
       "    <tr>\n",
       "      <th>count</th>\n",
       "      <td>6.600000e+01</td>\n",
       "      <td>3.400000e+01</td>\n",
       "      <td>3.800000e+01</td>\n",
       "      <td>1.700000e+01</td>\n",
       "      <td>9.000000e+01</td>\n",
       "      <td>7.700000e+01</td>\n",
       "      <td>72.000000</td>\n",
       "      <td>72.000000</td>\n",
       "      <td>72.000000</td>\n",
       "      <td>3.000000e+00</td>\n",
       "      <td>5.400000e+01</td>\n",
       "      <td>7.500000e+01</td>\n",
       "      <td>9.300000e+01</td>\n",
       "      <td>1.800000e+01</td>\n",
       "      <td>7.800000e+01</td>\n",
       "      <td>72.000000</td>\n",
       "      <td>72.000000</td>\n",
       "      <td>1.070000e+02</td>\n",
       "      <td>1.080000e+02</td>\n",
       "    </tr>\n",
       "    <tr>\n",
       "      <th>mean</th>\n",
       "      <td>2.446776e+06</td>\n",
       "      <td>1.807789e+06</td>\n",
       "      <td>-1.170917e+06</td>\n",
       "      <td>1.668049e+05</td>\n",
       "      <td>5.390155e+06</td>\n",
       "      <td>1.201496e+05</td>\n",
       "      <td>668.763889</td>\n",
       "      <td>58.500000</td>\n",
       "      <td>36.277778</td>\n",
       "      <td>2.877500e+07</td>\n",
       "      <td>1.529361e+06</td>\n",
       "      <td>9.469212e+05</td>\n",
       "      <td>2.322312e+06</td>\n",
       "      <td>1.664106e+05</td>\n",
       "      <td>6.011525e+05</td>\n",
       "      <td>1058.527778</td>\n",
       "      <td>2007.111111</td>\n",
       "      <td>4.605105e+06</td>\n",
       "      <td>6.375339e+06</td>\n",
       "    </tr>\n",
       "    <tr>\n",
       "      <th>std</th>\n",
       "      <td>1.191776e+07</td>\n",
       "      <td>5.510228e+06</td>\n",
       "      <td>4.531597e+06</td>\n",
       "      <td>3.198914e+05</td>\n",
       "      <td>3.275556e+07</td>\n",
       "      <td>5.925085e+05</td>\n",
       "      <td>1978.997801</td>\n",
       "      <td>87.995198</td>\n",
       "      <td>85.139690</td>\n",
       "      <td>4.776800e+07</td>\n",
       "      <td>6.564217e+06</td>\n",
       "      <td>4.983723e+06</td>\n",
       "      <td>1.354194e+07</td>\n",
       "      <td>4.201494e+06</td>\n",
       "      <td>2.997169e+06</td>\n",
       "      <td>1132.503757</td>\n",
       "      <td>2693.165955</td>\n",
       "      <td>2.990485e+07</td>\n",
       "      <td>4.173084e+07</td>\n",
       "    </tr>\n",
       "    <tr>\n",
       "      <th>min</th>\n",
       "      <td>7.000000e+04</td>\n",
       "      <td>-1.025000e+05</td>\n",
       "      <td>-2.799289e+07</td>\n",
       "      <td>3.285000e+03</td>\n",
       "      <td>3.285000e+03</td>\n",
       "      <td>1.480000e+02</td>\n",
       "      <td>12.000000</td>\n",
       "      <td>0.000000</td>\n",
       "      <td>0.000000</td>\n",
       "      <td>4.000000e+05</td>\n",
       "      <td>6.922300e+04</td>\n",
       "      <td>2.000000e+00</td>\n",
       "      <td>-2.604490e+06</td>\n",
       "      <td>-7.576788e+06</td>\n",
       "      <td>4.770000e+02</td>\n",
       "      <td>2.000000</td>\n",
       "      <td>57.000000</td>\n",
       "      <td>1.480000e+02</td>\n",
       "      <td>-4.409300e+04</td>\n",
       "    </tr>\n",
       "    <tr>\n",
       "      <th>25%</th>\n",
       "      <td>4.000000e+05</td>\n",
       "      <td>8.746875e+04</td>\n",
       "      <td>-5.812438e+05</td>\n",
       "      <td>9.878400e+04</td>\n",
       "      <td>4.507585e+05</td>\n",
       "      <td>1.883400e+04</td>\n",
       "      <td>20.500000</td>\n",
       "      <td>10.000000</td>\n",
       "      <td>0.000000</td>\n",
       "      <td>1.200000e+06</td>\n",
       "      <td>2.608932e+05</td>\n",
       "      <td>9.595000e+02</td>\n",
       "      <td>2.130630e+05</td>\n",
       "      <td>-3.896218e+05</td>\n",
       "      <td>2.072158e+05</td>\n",
       "      <td>191.500000</td>\n",
       "      <td>513.750000</td>\n",
       "      <td>3.410185e+05</td>\n",
       "      <td>4.282172e+05</td>\n",
       "    </tr>\n",
       "    <tr>\n",
       "      <th>50%</th>\n",
       "      <td>7.250000e+05</td>\n",
       "      <td>3.825325e+05</td>\n",
       "      <td>-1.231420e+05</td>\n",
       "      <td>1.085790e+05</td>\n",
       "      <td>1.043324e+06</td>\n",
       "      <td>4.614500e+04</td>\n",
       "      <td>41.000000</td>\n",
       "      <td>26.500000</td>\n",
       "      <td>6.000000</td>\n",
       "      <td>2.000000e+06</td>\n",
       "      <td>3.954805e+05</td>\n",
       "      <td>2.555300e+04</td>\n",
       "      <td>4.176190e+05</td>\n",
       "      <td>-1.469750e+05</td>\n",
       "      <td>2.545700e+05</td>\n",
       "      <td>594.000000</td>\n",
       "      <td>944.000000</td>\n",
       "      <td>1.057548e+06</td>\n",
       "      <td>1.032338e+06</td>\n",
       "    </tr>\n",
       "    <tr>\n",
       "      <th>75%</th>\n",
       "      <td>1.000000e+06</td>\n",
       "      <td>1.066354e+06</td>\n",
       "      <td>-3.708600e+04</td>\n",
       "      <td>1.137840e+05</td>\n",
       "      <td>2.204999e+06</td>\n",
       "      <td>7.855200e+04</td>\n",
       "      <td>216.500000</td>\n",
       "      <td>61.750000</td>\n",
       "      <td>23.250000</td>\n",
       "      <td>4.296250e+07</td>\n",
       "      <td>6.948620e+05</td>\n",
       "      <td>3.876305e+05</td>\n",
       "      <td>9.340650e+05</td>\n",
       "      <td>-7.500975e+04</td>\n",
       "      <td>3.002298e+05</td>\n",
       "      <td>1635.500000</td>\n",
       "      <td>2590.750000</td>\n",
       "      <td>2.031214e+06</td>\n",
       "      <td>2.372703e+06</td>\n",
       "    </tr>\n",
       "    <tr>\n",
       "      <th>max</th>\n",
       "      <td>9.734362e+07</td>\n",
       "      <td>3.208340e+07</td>\n",
       "      <td>-1.042000e+03</td>\n",
       "      <td>1.398517e+06</td>\n",
       "      <td>3.117640e+08</td>\n",
       "      <td>5.235198e+06</td>\n",
       "      <td>14368.000000</td>\n",
       "      <td>528.000000</td>\n",
       "      <td>411.000000</td>\n",
       "      <td>8.392500e+07</td>\n",
       "      <td>4.852193e+07</td>\n",
       "      <td>4.266759e+07</td>\n",
       "      <td>1.303223e+08</td>\n",
       "      <td>1.545629e+07</td>\n",
       "      <td>2.670423e+07</td>\n",
       "      <td>4527.000000</td>\n",
       "      <td>15149.000000</td>\n",
       "      <td>3.098866e+08</td>\n",
       "      <td>4.345095e+08</td>\n",
       "    </tr>\n",
       "  </tbody>\n",
       "</table>\n",
       "</div>"
      ],
      "text/plain": [
       "              bonus  deferral_payments  deferred_income  director_fees  \\\n",
       "count  6.600000e+01       3.400000e+01     3.800000e+01   1.700000e+01   \n",
       "mean   2.446776e+06       1.807789e+06    -1.170917e+06   1.668049e+05   \n",
       "std    1.191776e+07       5.510228e+06     4.531597e+06   3.198914e+05   \n",
       "min    7.000000e+04      -1.025000e+05    -2.799289e+07   3.285000e+03   \n",
       "25%    4.000000e+05       8.746875e+04    -5.812438e+05   9.878400e+04   \n",
       "50%    7.250000e+05       3.825325e+05    -1.231420e+05   1.085790e+05   \n",
       "75%    1.000000e+06       1.066354e+06    -3.708600e+04   1.137840e+05   \n",
       "max    9.734362e+07       3.208340e+07    -1.042000e+03   1.398517e+06   \n",
       "\n",
       "       exercised_stock_options      expenses  from_messages  \\\n",
       "count             9.000000e+01  7.700000e+01      72.000000   \n",
       "mean              5.390155e+06  1.201496e+05     668.763889   \n",
       "std               3.275556e+07  5.925085e+05    1978.997801   \n",
       "min               3.285000e+03  1.480000e+02      12.000000   \n",
       "25%               4.507585e+05  1.883400e+04      20.500000   \n",
       "50%               1.043324e+06  4.614500e+04      41.000000   \n",
       "75%               2.204999e+06  7.855200e+04     216.500000   \n",
       "max               3.117640e+08  5.235198e+06   14368.000000   \n",
       "\n",
       "       from_poi_to_this_person  from_this_person_to_poi  loan_advances  \\\n",
       "count                72.000000                72.000000   3.000000e+00   \n",
       "mean                 58.500000                36.277778   2.877500e+07   \n",
       "std                  87.995198                85.139690   4.776800e+07   \n",
       "min                   0.000000                 0.000000   4.000000e+05   \n",
       "25%                  10.000000                 0.000000   1.200000e+06   \n",
       "50%                  26.500000                 6.000000   2.000000e+06   \n",
       "75%                  61.750000                23.250000   4.296250e+07   \n",
       "max                 528.000000               411.000000   8.392500e+07   \n",
       "\n",
       "       long_term_incentive         other  restricted_stock  \\\n",
       "count         5.400000e+01  7.500000e+01      9.300000e+01   \n",
       "mean          1.529361e+06  9.469212e+05      2.322312e+06   \n",
       "std           6.564217e+06  4.983723e+06      1.354194e+07   \n",
       "min           6.922300e+04  2.000000e+00     -2.604490e+06   \n",
       "25%           2.608932e+05  9.595000e+02      2.130630e+05   \n",
       "50%           3.954805e+05  2.555300e+04      4.176190e+05   \n",
       "75%           6.948620e+05  3.876305e+05      9.340650e+05   \n",
       "max           4.852193e+07  4.266759e+07      1.303223e+08   \n",
       "\n",
       "       restricted_stock_deferred        salary  shared_receipt_with_poi  \\\n",
       "count               1.800000e+01  7.800000e+01                72.000000   \n",
       "mean                1.664106e+05  6.011525e+05              1058.527778   \n",
       "std                 4.201494e+06  2.997169e+06              1132.503757   \n",
       "min                -7.576788e+06  4.770000e+02                 2.000000   \n",
       "25%                -3.896218e+05  2.072158e+05               191.500000   \n",
       "50%                -1.469750e+05  2.545700e+05               594.000000   \n",
       "75%                -7.500975e+04  3.002298e+05              1635.500000   \n",
       "max                 1.545629e+07  2.670423e+07              4527.000000   \n",
       "\n",
       "        to_messages  total_payments  total_stock_value  \n",
       "count     72.000000    1.070000e+02       1.080000e+02  \n",
       "mean    2007.111111    4.605105e+06       6.375339e+06  \n",
       "std     2693.165955    2.990485e+07       4.173084e+07  \n",
       "min       57.000000    1.480000e+02      -4.409300e+04  \n",
       "25%      513.750000    3.410185e+05       4.282172e+05  \n",
       "50%      944.000000    1.057548e+06       1.032338e+06  \n",
       "75%     2590.750000    2.031214e+06       2.372703e+06  \n",
       "max    15149.000000    3.098866e+08       4.345095e+08  "
      ]
     },
     "execution_count": 54,
     "metadata": {},
     "output_type": "execute_result"
    }
   ],
   "source": [
    "df[df.poi.isin([False])].describe()"
   ]
  },
  {
   "cell_type": "markdown",
   "metadata": {},
   "source": [
    "### Número de atributos"
   ]
  },
  {
   "cell_type": "code",
   "execution_count": 38,
   "metadata": {},
   "outputs": [
    {
     "data": {
      "text/plain": [
       "22"
      ]
     },
     "execution_count": 38,
     "metadata": {},
     "output_type": "execute_result"
    }
   ],
   "source": [
    "len(df.columns) "
   ]
  },
  {
   "cell_type": "markdown",
   "metadata": {},
   "source": [
    "### Número de POIs"
   ]
  },
  {
   "cell_type": "code",
   "execution_count": 39,
   "metadata": {},
   "outputs": [
    {
     "data": {
      "text/plain": [
       "18"
      ]
     },
     "execution_count": 39,
     "metadata": {},
     "output_type": "execute_result"
    }
   ],
   "source": [
    "len(df[df.poi.isin([True])])"
   ]
  },
  {
   "cell_type": "markdown",
   "metadata": {},
   "source": [
    "### Número de não POIs"
   ]
  },
  {
   "cell_type": "code",
   "execution_count": 131,
   "metadata": {},
   "outputs": [
    {
     "data": {
      "text/plain": [
       "128"
      ]
     },
     "execution_count": 131,
     "metadata": {},
     "output_type": "execute_result"
    }
   ],
   "source": [
    "len(df[df.poi.isin([False])])"
   ]
  },
  {
   "cell_type": "markdown",
   "metadata": {},
   "source": [
    "### Funcionário com todos os dados financeiros ausentes"
   ]
  },
  {
   "cell_type": "code",
   "execution_count": 13,
   "metadata": {},
   "outputs": [
    {
     "name": "stdout",
     "output_type": "stream",
     "text": [
      "LOCKHART EUGENE E\n"
     ]
    }
   ],
   "source": [
    "df_financial = df[att_financial]\n",
    "index = 0\n",
    "for total in pd.isnull(df_financial).sum(axis = 1):\n",
    "    if total == len(att_financial):\n",
    "        print df.iloc[index]['nome']\n",
    "    index += 1"
   ]
  },
  {
   "cell_type": "markdown",
   "metadata": {},
   "source": [
    "### Funcionários com todos os dados de email ausente"
   ]
  },
  {
   "cell_type": "code",
   "execution_count": 139,
   "metadata": {},
   "outputs": [
    {
     "name": "stdout",
     "output_type": "stream",
     "text": [
      "BADUM JAMES P\n",
      "BAXTER JOHN C\n",
      "BAZELIDES PHILIP J\n",
      "BELFER ROBERT\n",
      "BLAKE JR. NORMAN P\n",
      "CHAN RONNIE\n",
      "CLINE KENNETH W\n",
      "CUMBERLAND MICHAEL S\n",
      "DUNCAN JOHN H\n",
      "FUGH JOHN L\n",
      "GAHN ROBERT S\n",
      "GATHMANN WILLIAM D\n",
      "GILLIS JOHN\n",
      "GRAMM WENDY L\n",
      "GRAY RODNEY\n",
      "JAEDICKE ROBERT\n",
      "LEMAISTRE CHARLES\n",
      "LOCKHART EUGENE E\n",
      "LOWRY CHARLES P\n",
      "MENDELSOHN JOHN\n",
      "MEYER JEROME J\n",
      "NOLES JAMES L\n",
      "PEREIRA PAULO V. FERRAZ\n",
      "REYNOLDS LAWRENCE\n",
      "SAVAGE FRANK\n",
      "SULLIVAN-SHAKLOVITZ COLLEEN\n",
      "THE TRAVEL AGENCY IN THE PARK\n",
      "URQUHART JOHN A\n",
      "WAKEHAM JOHN\n",
      "WALTERS GARETH W\n",
      "WHALEY DAVID A\n",
      "WINOKUR JR. HERBERT S\n",
      "WROBEL BRUCE\n",
      "YEAP SOON\n"
     ]
    }
   ],
   "source": [
    "df_mail = df[att_email]\n",
    "\n",
    "index = 0\n",
    "for total in pd.isnull(df_mail).sum(axis = 1):\n",
    "    if total == len(att_email):\n",
    "        print df.iloc[index]['nome']\n",
    "    index += 1"
   ]
  },
  {
   "cell_type": "markdown",
   "metadata": {},
   "source": [
    "Dando uma olhada rápida nos nomes encontrados, percebe-se que o funcionário **LOCKHART EUGENE E** aparece novamente, só que agora sem os dados de e-mail. Outro ponto interessante é que existe um funcionário chamado **THE TRAVEL AGENCY IN THE PARK**, que certamente é outro dado sujo."
   ]
  },
  {
   "cell_type": "code",
   "execution_count": 3,
   "metadata": {},
   "outputs": [
    {
     "data": {
      "text/html": [
       "<div>\n",
       "<style scoped>\n",
       "    .dataframe tbody tr th:only-of-type {\n",
       "        vertical-align: middle;\n",
       "    }\n",
       "\n",
       "    .dataframe tbody tr th {\n",
       "        vertical-align: top;\n",
       "    }\n",
       "\n",
       "    .dataframe thead th {\n",
       "        text-align: right;\n",
       "    }\n",
       "</style>\n",
       "<table border=\"1\" class=\"dataframe\">\n",
       "  <thead>\n",
       "    <tr style=\"text-align: right;\">\n",
       "      <th></th>\n",
       "      <th>nome</th>\n",
       "      <th>bonus</th>\n",
       "      <th>deferral_payments</th>\n",
       "      <th>deferred_income</th>\n",
       "      <th>director_fees</th>\n",
       "      <th>email_address</th>\n",
       "      <th>exercised_stock_options</th>\n",
       "      <th>expenses</th>\n",
       "      <th>from_messages</th>\n",
       "      <th>from_poi_to_this_person</th>\n",
       "      <th>...</th>\n",
       "      <th>long_term_incentive</th>\n",
       "      <th>other</th>\n",
       "      <th>poi</th>\n",
       "      <th>restricted_stock</th>\n",
       "      <th>restricted_stock_deferred</th>\n",
       "      <th>salary</th>\n",
       "      <th>shared_receipt_with_poi</th>\n",
       "      <th>to_messages</th>\n",
       "      <th>total_payments</th>\n",
       "      <th>total_stock_value</th>\n",
       "    </tr>\n",
       "  </thead>\n",
       "  <tbody>\n",
       "    <tr>\n",
       "      <th>127</th>\n",
       "      <td>THE TRAVEL AGENCY IN THE PARK</td>\n",
       "      <td>NaN</td>\n",
       "      <td>NaN</td>\n",
       "      <td>NaN</td>\n",
       "      <td>NaN</td>\n",
       "      <td>NaN</td>\n",
       "      <td>NaN</td>\n",
       "      <td>NaN</td>\n",
       "      <td>NaN</td>\n",
       "      <td>NaN</td>\n",
       "      <td>...</td>\n",
       "      <td>NaN</td>\n",
       "      <td>362096.0</td>\n",
       "      <td>False</td>\n",
       "      <td>NaN</td>\n",
       "      <td>NaN</td>\n",
       "      <td>NaN</td>\n",
       "      <td>NaN</td>\n",
       "      <td>NaN</td>\n",
       "      <td>362096.0</td>\n",
       "      <td>NaN</td>\n",
       "    </tr>\n",
       "  </tbody>\n",
       "</table>\n",
       "<p>1 rows × 22 columns</p>\n",
       "</div>"
      ],
      "text/plain": [
       "                              nome  bonus  deferral_payments  deferred_income  \\\n",
       "127  THE TRAVEL AGENCY IN THE PARK    NaN                NaN              NaN   \n",
       "\n",
       "     director_fees email_address  exercised_stock_options  expenses  \\\n",
       "127            NaN           NaN                      NaN       NaN   \n",
       "\n",
       "     from_messages  from_poi_to_this_person        ...          \\\n",
       "127            NaN                      NaN        ...           \n",
       "\n",
       "     long_term_incentive     other    poi  restricted_stock  \\\n",
       "127                  NaN  362096.0  False               NaN   \n",
       "\n",
       "     restricted_stock_deferred  salary  shared_receipt_with_poi  to_messages  \\\n",
       "127                        NaN     NaN                      NaN          NaN   \n",
       "\n",
       "     total_payments  total_stock_value  \n",
       "127        362096.0                NaN  \n",
       "\n",
       "[1 rows x 22 columns]"
      ]
     },
     "execution_count": 3,
     "metadata": {},
     "output_type": "execute_result"
    }
   ],
   "source": [
    "df[df['nome'] == 'THE TRAVEL AGENCY IN THE PARK']"
   ]
  },
  {
   "cell_type": "markdown",
   "metadata": {},
   "source": [
    "## Explorar os dados visualmente\n",
    "\n",
    "\n",
    "Precisamos entender a distribuição dos atributos, a fim de decidir qual estratégia será tomada no preenchimento dos dados ausentes."
   ]
  },
  {
   "cell_type": "code",
   "execution_count": 42,
   "metadata": {},
   "outputs": [
    {
     "data": {
      "image/png": "[encoded data removed]",
      "text/plain": [
       "<Figure size 1440x1080 with 20 Axes>"
      ]
     },
     "metadata": {},
     "output_type": "display_data"
    }
   ],
   "source": [
    "df.hist(bins=50, figsize=(20,15))\n",
    "plt.show()"
   ]
  },
  {
   "cell_type": "markdown",
   "metadata": {},
   "source": [
    "Existe um outlier aberrante que esta atrapalhando a visualização dos histogramas. Para identificar o outlier, irei analisar o salário."
   ]
  },
  {
   "cell_type": "code",
   "execution_count": 53,
   "metadata": {},
   "outputs": [
    {
     "data": {
      "image/png": "[encoded data removed]",
      "text/plain": [
       "<Figure size 432x288 with 1 Axes>"
      ]
     },
     "metadata": {},
     "output_type": "display_data"
    }
   ],
   "source": [
    "sns.boxplot(x='poi', y='salary', data=df)\n",
    "plt.show()"
   ]
  },
  {
   "cell_type": "markdown",
   "metadata": {},
   "source": [
    "Percebemos que o outlier aberrante é um não POI."
   ]
  },
  {
   "cell_type": "code",
   "execution_count": 32,
   "metadata": {},
   "outputs": [
    {
     "data": {
      "text/html": [
       "<div>\n",
       "<style scoped>\n",
       "    .dataframe tbody tr th:only-of-type {\n",
       "        vertical-align: middle;\n",
       "    }\n",
       "\n",
       "    .dataframe tbody tr th {\n",
       "        vertical-align: top;\n",
       "    }\n",
       "\n",
       "    .dataframe thead th {\n",
       "        text-align: right;\n",
       "    }\n",
       "</style>\n",
       "<table border=\"1\" class=\"dataframe\">\n",
       "  <thead>\n",
       "    <tr style=\"text-align: right;\">\n",
       "      <th></th>\n",
       "      <th>nome</th>\n",
       "      <th>bonus</th>\n",
       "      <th>deferral_payments</th>\n",
       "      <th>deferred_income</th>\n",
       "      <th>director_fees</th>\n",
       "      <th>email_address</th>\n",
       "      <th>exercised_stock_options</th>\n",
       "      <th>expenses</th>\n",
       "      <th>from_messages</th>\n",
       "      <th>from_poi_to_this_person</th>\n",
       "      <th>...</th>\n",
       "      <th>long_term_incentive</th>\n",
       "      <th>other</th>\n",
       "      <th>poi</th>\n",
       "      <th>restricted_stock</th>\n",
       "      <th>restricted_stock_deferred</th>\n",
       "      <th>salary</th>\n",
       "      <th>shared_receipt_with_poi</th>\n",
       "      <th>to_messages</th>\n",
       "      <th>total_payments</th>\n",
       "      <th>total_stock_value</th>\n",
       "    </tr>\n",
       "  </thead>\n",
       "  <tbody>\n",
       "    <tr>\n",
       "      <th>130</th>\n",
       "      <td>TOTAL</td>\n",
       "      <td>97343619.0</td>\n",
       "      <td>32083396.0</td>\n",
       "      <td>-27992891.0</td>\n",
       "      <td>1398517.0</td>\n",
       "      <td>NaN</td>\n",
       "      <td>311764000.0</td>\n",
       "      <td>5235198.0</td>\n",
       "      <td>NaN</td>\n",
       "      <td>NaN</td>\n",
       "      <td>...</td>\n",
       "      <td>48521928.0</td>\n",
       "      <td>42667589.0</td>\n",
       "      <td>False</td>\n",
       "      <td>130322299.0</td>\n",
       "      <td>-7576788.0</td>\n",
       "      <td>26704229.0</td>\n",
       "      <td>NaN</td>\n",
       "      <td>NaN</td>\n",
       "      <td>309886585.0</td>\n",
       "      <td>434509511.0</td>\n",
       "    </tr>\n",
       "  </tbody>\n",
       "</table>\n",
       "<p>1 rows × 22 columns</p>\n",
       "</div>"
      ],
      "text/plain": [
       "      nome       bonus  deferral_payments  deferred_income  director_fees  \\\n",
       "130  TOTAL  97343619.0         32083396.0      -27992891.0      1398517.0   \n",
       "\n",
       "    email_address  exercised_stock_options   expenses  from_messages  \\\n",
       "130           NaN              311764000.0  5235198.0            NaN   \n",
       "\n",
       "     from_poi_to_this_person        ...          long_term_incentive  \\\n",
       "130                      NaN        ...                   48521928.0   \n",
       "\n",
       "          other    poi  restricted_stock  restricted_stock_deferred  \\\n",
       "130  42667589.0  False       130322299.0                 -7576788.0   \n",
       "\n",
       "         salary  shared_receipt_with_poi  to_messages  total_payments  \\\n",
       "130  26704229.0                      NaN          NaN     309886585.0   \n",
       "\n",
       "     total_stock_value  \n",
       "130        434509511.0  \n",
       "\n",
       "[1 rows x 22 columns]"
      ]
     },
     "execution_count": 32,
     "metadata": {},
     "output_type": "execute_result"
    }
   ],
   "source": [
    "df[df['salary'] > 2500000]"
   ]
  },
  {
   "cell_type": "markdown",
   "metadata": {},
   "source": [
    " **TOTAL** com certeza não era funcionário da enron. Aqui nos temos um erro na criação do dataset que precisará ser removido para não prejudicar nosso modelo. Por ora, irei remover essa linha para continuar com as análises. "
   ]
  },
  {
   "cell_type": "code",
   "execution_count": 5,
   "metadata": {
    "collapsed": true
   },
   "outputs": [],
   "source": [
    "df_enron = df[df['nome'] != 'TOTAL'].copy(deep=True)"
   ]
  },
  {
   "cell_type": "code",
   "execution_count": 52,
   "metadata": {},
   "outputs": [
    {
     "data": {
      "image/png": "[encoded data removed]",
      "text/plain": [
       "<Figure size 432x288 with 1 Axes>"
      ]
     },
     "metadata": {},
     "output_type": "display_data"
    }
   ],
   "source": [
    "sns.boxplot(x='poi', y='salary', data=df_enron)\n",
    "plt.show()"
   ]
  },
  {
   "cell_type": "code",
   "execution_count": 48,
   "metadata": {},
   "outputs": [
    {
     "data": {
      "image/png": "[encoded data removed]",
      "text/plain": [
       "<Figure size 1440x1080 with 20 Axes>"
      ]
     },
     "metadata": {},
     "output_type": "display_data"
    }
   ],
   "source": [
    "df_enron.hist(bins=50, figsize=(20,15))\n",
    "plt.show()"
   ]
  },
  {
   "cell_type": "markdown",
   "metadata": {},
   "source": [
    "Sem o valor aberrante a visualização ficou melhor, mas ainda existem alguns outliers. Percebe-se que temos uma assimetria positiva em quase todos os atributos, dessa maneira, não podemos preencher os valores ausentes com a média, porque estariamos cometendo um erro que afetaria nosso modelo preditivo."
   ]
  },
  {
   "cell_type": "code",
   "execution_count": 6,
   "metadata": {},
   "outputs": [
    {
     "data": {
      "image/png": "[encoded data removed]",
      "text/plain": [
       "<matplotlib.figure.Figure at 0xb5c7160>"
      ]
     },
     "metadata": {},
     "output_type": "display_data"
    }
   ],
   "source": [
    "sns.pairplot(df_enron, vars = ['bonus','deferral_payments','total_stock_value','restricted_stock','salary','total_payments'],\n",
    "                 dropna = True, diag_kind = 'kde', hue = 'poi',palette = 'seismic')\n",
    "plt.show()"
   ]
  },
  {
   "cell_type": "markdown",
   "metadata": {},
   "source": [
    "Esperava encontrar alguma correlação forte entre os dados, mas não foi possível identificar nada."
   ]
  },
  {
   "cell_type": "markdown",
   "metadata": {},
   "source": [
    "# Fase 2: Preparar os dados"
   ]
  },
  {
   "cell_type": "markdown",
   "metadata": {},
   "source": [
    "## Fixar ou remover ruídos(outliers).\n"
   ]
  },
  {
   "cell_type": "markdown",
   "metadata": {},
   "source": [
    "Na exploração que fiz anteriormente, encontrei três outliers que precisam ser removidos: o primeiro foi a totalização das informações que foi inserida como um funcionário; o segundo foi um funcionário chamado **LOCKHART EUGENE E** que não pussuía informações suficientes; o terceiro foi dados de uma empresa chamada **THE TRAVEL AGENCY IN THE PARK** que foi inserida como funcionário."
   ]
  },
  {
   "cell_type": "code",
   "execution_count": 253,
   "metadata": {
    "collapsed": true
   },
   "outputs": [],
   "source": [
    "def remove_outliers(dictionary):\n",
    "    \"\"\"Remove os outliers identificados na EDA.\n",
    "    \n",
    "    \"\"\"\n",
    "    try:\n",
    "        del dictionary['TOTAL']\n",
    "        del dictionary['THE TRAVEL AGENCY IN THE PARK']\n",
    "        del dictionary['LOCKHART EUGENE E']\n",
    "    except KeyError:\n",
    "        print \"Outliers ja foram removidos\""
   ]
  },
  {
   "cell_type": "markdown",
   "metadata": {},
   "source": [
    "## Engenharia de atributos"
   ]
  },
  {
   "cell_type": "markdown",
   "metadata": {},
   "source": [
    "Para continuar com a investigação, serão criados três atributos que demonstram a fração de mensagens trocadas entre os funcionários e os POIs e um atributo com a renda dos funcionários."
   ]
  },
  {
   "cell_type": "code",
   "execution_count": 254,
   "metadata": {
    "collapsed": true
   },
   "outputs": [],
   "source": [
    "def computeFraction(poi_messages, all_messages):\n",
    "    \"\"\" Calcula a fração de mensagens enviadas e recebidas dos POIs.\n",
    "    \n",
    "    Args:\n",
    "        poi_messages: total de mensagens relacionadas com os POIs\n",
    "        all_messages: total das mensagens\n",
    "        \n",
    "    Returns:\n",
    "        fração das mensagens.\n",
    "    \"\"\"\n",
    "\n",
    "    fraction = 0.\n",
    "    if poi_messages != \"NaN\":\n",
    "        fraction = float(poi_messages)/float(all_messages)\n",
    "\n",
    "    return fraction\n",
    "\n",
    "def compute_income(data_point):\n",
    "    \"\"\"Calcula o rendimento do funcionário.\n",
    "    \n",
    "    Args:\n",
    "        data_point: dados de determinado funcionário.\n",
    "    \n",
    "    Returns:\n",
    "        Rendimento de determinado funcionário.\n",
    "        income = salary + bonus\n",
    "    \"\"\"\n",
    "    salary = 0.\n",
    "    bonus = 0.\n",
    "    if data_point['salary'] != \"NaN\":\n",
    "        salary = data_point['salary']\n",
    "    if data_point['bonus'] != \"NaN\":\n",
    "        bonus = data_point['bonus']\n",
    "    return salary + bonus\n",
    "\n",
    "def create_new_features(dictionary):\n",
    "    \"\"\"Cria novas features no dicionário.\n",
    "    \"\"\"\n",
    "    for name in dictionary.keys():\n",
    "        data_point = dictionary[name]\n",
    "        #fração de mensagens from_poi\n",
    "        from_poi_to_this_person = data_point[\"from_poi_to_this_person\"]\n",
    "        to_messages = data_point[\"to_messages\"]\n",
    "        fraction_from_poi = computeFraction(from_poi_to_this_person, to_messages)\n",
    "        dictionary[name][\"fraction_from_poi\"] = fraction_from_poi\n",
    "        #fração de mensagens to_poi\n",
    "        from_this_person_to_poi = data_point[\"from_this_person_to_poi\"]\n",
    "        from_messages = data_point[\"from_messages\"]\n",
    "        fraction_to_poi = computeFraction( from_this_person_to_poi, from_messages )\n",
    "        dictionary[name][\"fraction_to_poi\"] = fraction_to_poi\n",
    "        #income\n",
    "        dictionary[name]['income'] = compute_income(data_point)\n",
    "\n",
    "create_new_features(data_dict)"
   ]
  },
  {
   "cell_type": "code",
   "execution_count": 255,
   "metadata": {},
   "outputs": [
    {
     "data": {
      "image/png": "[encoded data removed]",
      "text/plain": [
       "<Figure size 432x288 with 1 Axes>"
      ]
     },
     "metadata": {},
     "output_type": "display_data"
    }
   ],
   "source": [
    "remove_outliers(data_dict)\n",
    "draw_scatter(data_dict, ['poi', 'fraction_from_poi', 'fraction_to_poi'])"
   ]
  },
  {
   "cell_type": "markdown",
   "metadata": {},
   "source": [
    "## Preencher valores ausentes\n",
    "\n",
    "Como temos poucas linhas no dataset, precisamente 143, e alguns outliers, não poderemos utilizar nenhuma medida da tendência central para não enviesar os dados. Dessa forma, os atributos com dados ausentes serão preenchidos com 0.\n",
    "O atributo \"loan_advances\" não será incluído na lista devido a baixa quantidade de registros. "
   ]
  },
  {
   "cell_type": "code",
   "execution_count": 256,
   "metadata": {
    "collapsed": true
   },
   "outputs": [],
   "source": [
    "features_list = ['poi', 'salary', 'deferral_payments', 'total_payments', 'income',\n",
    "                 'bonus', 'restricted_stock_deferred', 'deferred_income', 'total_stock_value',\n",
    "                 'expenses', 'exercised_stock_options', 'long_term_incentive', 'restricted_stock',\n",
    "                 'director_fees', 'to_messages', 'from_poi_to_this_person','from_messages',\n",
    "                 'from_this_person_to_poi', 'shared_receipt_with_poi','fraction_from_poi', \n",
    "                 'fraction_to_poi']\n",
    "# a função featureFormat irá preencher com 0 os valores ausentes.\n",
    "data = featureFormat(data_dict, features_list, remove_all_zeroes = False, sort_keys = True)\n",
    "labels, features = targetFeatureSplit(data)"
   ]
  },
  {
   "cell_type": "markdown",
   "metadata": {},
   "source": [
    "### Criando um conjunto de Treinamento e Test"
   ]
  },
  {
   "cell_type": "code",
   "execution_count": 257,
   "metadata": {
    "collapsed": true
   },
   "outputs": [],
   "source": [
    "features_train, features_test, labels_train, labels_test = train_test_split(features, labels, test_size=0.3, random_state=42)"
   ]
  },
  {
   "cell_type": "markdown",
   "metadata": {},
   "source": [
    "## Seleção de características(atributos)\n",
    "\n",
    "Para definir quais são as melhores características do meu dataset, irei usar o SelectKBest, onde será feito uma análise de variância para identificar quantas características possui o melhor Score F1."
   ]
  },
  {
   "cell_type": "code",
   "execution_count": 258,
   "metadata": {
    "collapsed": true
   },
   "outputs": [],
   "source": [
    "def select_best_features(n_features):\n",
    "    \"\"\"Seleciona as n melhores features de acordo com a variância.\n",
    "    \n",
    "    Responsável por selecionar as n melhores features com base \n",
    "    na análise de variância.\n",
    "    \n",
    "    Args:\n",
    "        n_features: número de features que deseja\n",
    "    \n",
    "    Returns: \n",
    "        Lista com o nomes das n features com maior score\n",
    "        \n",
    "    \"\"\"\n",
    "    data = featureFormat(data_dict, features_list, remove_all_zeroes = False, sort_keys = True)\n",
    "    labels, features = targetFeatureSplit(data)\n",
    "    features_train, features_test, labels_train, labels_test = \\\n",
    "        train_test_split(features, labels, test_size=0.3, random_state=42)\n",
    "    selector = SelectKBest(k = n_features)  \n",
    "    selector.fit_transform(features, labels)\n",
    "    selected_indices = selector.get_support(indices=True)\n",
    "    final_features = []\n",
    "    for indice in selected_indices:\n",
    "        #print 'feature -> {} with score -> {}'.format(features_list[indice + 1], selector.scores_[indice])\n",
    "        final_features.append(features_list[indice + 1])\n",
    "    return final_features"
   ]
  },
  {
   "cell_type": "code",
   "execution_count": 226,
   "metadata": {
    "collapsed": true
   },
   "outputs": [],
   "source": [
    "def selectKBest_f1_scores(clf, dataset, n_kbest_features, folds = 1000):\n",
    "    \"\"\" Verifica os scores do número de features selecionadas.\n",
    "    \n",
    "    Responsável por selecionar o score F1 de 2 até n_kbest_features.\n",
    "    \n",
    "    Args: \n",
    "        clf: classificador utilizado para a análise\n",
    "        dataset: dados utilizados\n",
    "        n_kbest_features: número de máximo de features permitido.\n",
    "        \n",
    "    Returns:\n",
    "        retorno1: Lista de valores K\n",
    "        retorno2: Lista de Scores F1\n",
    "    \"\"\"\n",
    "    graficoX = []\n",
    "    graficoY = []\n",
    "    for k in range(2, n_kbest_features):\n",
    "        features_selected = select_best_features(k)\n",
    "        features_selected.insert(0, \"poi\")\n",
    "        data = featureFormat(dataset, features_selected, sort_keys = True)\n",
    "        labels, features = targetFeatureSplit(data)\n",
    "        cv = StratifiedShuffleSplit(labels, folds, random_state = 42)\n",
    "        true_negatives = 0\n",
    "        false_negatives = 0\n",
    "        true_positives = 0\n",
    "        false_positives = 0\n",
    "        for train_idx, test_idx in cv: \n",
    "            features_train = []\n",
    "            features_test  = []\n",
    "            labels_train   = []\n",
    "            labels_test    = []\n",
    "            for ii in train_idx:\n",
    "                features_train.append( features[ii] )\n",
    "                labels_train.append( labels[ii] )\n",
    "            for jj in test_idx:\n",
    "                features_test.append( features[jj] )\n",
    "                labels_test.append( labels[jj] )\n",
    "\n",
    "            clf.fit(features_train, labels_train)\n",
    "            predictions = clf.predict(features_test)\n",
    "            for prediction, truth in zip(predictions, labels_test):\n",
    "                if prediction == 0 and truth == 0:\n",
    "                    true_negatives += 1\n",
    "                elif prediction == 0 and truth == 1:\n",
    "                    false_negatives += 1\n",
    "                elif prediction == 1 and truth == 0:\n",
    "                    false_positives += 1\n",
    "                elif prediction == 1 and truth == 1:\n",
    "                    true_positives += 1\n",
    "                else:\n",
    "                    print \"Warning: Found a predicted label not == 0 or 1.\"\n",
    "                    print \"All predictions should take value 0 or 1.\"\n",
    "                    print \"Evaluating performance for processed predictions:\"\n",
    "                    break\n",
    "        try:\n",
    "            f1 = 2.0 * true_positives/(2*true_positives + false_positives+false_negatives)\n",
    "            graficoY.append(f1)\n",
    "            graficoX.append(k)\n",
    "        except:\n",
    "            print \"Got a divide by zero when trying out:\", clf\n",
    "            print \"Precision or recall may be undefined due to a lack of true positive predicitons.\"\n",
    "    return  graficoX, graficoY\n",
    "        "
   ]
  },
  {
   "cell_type": "code",
   "execution_count": 243,
   "metadata": {
    "collapsed": true
   },
   "outputs": [],
   "source": [
    "x, y = selectKBest_f1_scores(GaussianNB(), data_dict, 20)"
   ]
  },
  {
   "cell_type": "code",
   "execution_count": 244,
   "metadata": {},
   "outputs": [
    {
     "data": {
      "image/png": "[encoded data removed]",
      "text/plain": [
       "<Figure size 432x288 with 1 Axes>"
      ]
     },
     "metadata": {},
     "output_type": "display_data"
    }
   ],
   "source": [
    "plt.figure()\n",
    "plt.xlabel(\"Numero de features selecionadas\")\n",
    "plt.ylabel(\"Valor de F1-Score\")\n",
    "plt.plot(x, y)\n",
    "plt.savefig('featureSelection.png', transparent=True)\n",
    "plt.show()"
   ]
  },
  {
   "cell_type": "markdown",
   "metadata": {},
   "source": [
    "Como podemos perceber com a visualização acima, com 17 features temos o melhor valor de F1"
   ]
  },
  {
   "cell_type": "code",
   "execution_count": 259,
   "metadata": {
    "collapsed": true
   },
   "outputs": [],
   "source": [
    "features_list =  select_best_features(17)\n",
    "#add POI no ínicio\n",
    "features_list.insert(0, \"poi\")"
   ]
  },
  {
   "cell_type": "markdown",
   "metadata": {},
   "source": [
    "A engenharia de atributos trouxe bons resultados! O atributo \"income\" teve melhor pontuação que seu criador \"salary\" e o \"fraction_to_poi\" também ficou entre os 10 melhores."
   ]
  },
  {
   "cell_type": "markdown",
   "metadata": {},
   "source": [
    "# Fase 3: Escolha e Afinamento de um Modelo\n",
    "\n",
    "## Treinar uma variedade de classificadores\n",
    "\n",
    "\n",
    "Como estou com um problema de natureza superviosionada, usarei os seguintes algorítmos:\n",
    "    - DecisionTree\n",
    "    - RandonForest\n",
    "    - Adaboost"
   ]
  },
  {
   "cell_type": "code",
   "execution_count": 302,
   "metadata": {
    "collapsed": true
   },
   "outputs": [],
   "source": [
    "classifiers = ['adaboost', 'random_forest', 'decision_tree']"
   ]
  },
  {
   "cell_type": "markdown",
   "metadata": {},
   "source": [
    "### DecisionTree"
   ]
  },
  {
   "cell_type": "code",
   "execution_count": 319,
   "metadata": {},
   "outputs": [
    {
     "name": "stdout",
     "output_type": "stream",
     "text": [
      "DecisionTreeClassifier(class_weight=None, criterion='gini', max_depth=None,\n",
      "            max_features=None, max_leaf_nodes=None,\n",
      "            min_impurity_decrease=0.0, min_impurity_split=None,\n",
      "            min_samples_leaf=1, min_samples_split=2,\n",
      "            min_weight_fraction_leaf=0.0, presort=False, random_state=None,\n",
      "            splitter='best')\n",
      "\tAccuracy: 0.81400\tPrecision: 0.29744\tRecall: 0.29000\tF1: 0.29367\tF2: 0.29146\n",
      "\tTotal predictions: 1500\tTrue positives:   58\tFalse positives:  137\tFalse negatives:  142\tTrue negatives: 1163\n",
      "\n",
      "('Tempo de ajuste DecisionTree:', 0.111, 's')\n"
     ]
    }
   ],
   "source": [
    "clf_dc = DecisionTreeClassifier()\n",
    "t0 = time()\n",
    "test_classifier(clf_dc, data_dict, features_list, folds = 100)\n",
    "print(\"Tempo de ajuste DecisionTree:\", round(time()-t0, 3), \"s\")"
   ]
  },
  {
   "cell_type": "markdown",
   "metadata": {},
   "source": [
    "### RandonForest"
   ]
  },
  {
   "cell_type": "code",
   "execution_count": 87,
   "metadata": {},
   "outputs": [
    {
     "name": "stdout",
     "output_type": "stream",
     "text": [
      "RandomForestClassifier(bootstrap=True, class_weight=None, criterion='gini',\n",
      "            max_depth=None, max_features='auto', max_leaf_nodes=None,\n",
      "            min_impurity_decrease=0.0, min_impurity_split=None,\n",
      "            min_samples_leaf=1, min_samples_split=2,\n",
      "            min_weight_fraction_leaf=0.0, n_estimators=10, n_jobs=1,\n",
      "            oob_score=False, random_state=None, verbose=0,\n",
      "            warm_start=False)\n",
      "\tAccuracy: 0.86467\tPrecision: 0.48000\tRecall: 0.18000\tF1: 0.26182\tF2: 0.20571\n",
      "\tTotal predictions: 1500\tTrue positives:   36\tFalse positives:   39\tFalse negatives:  164\tTrue negatives: 1261\n",
      "\n",
      "('Tempo de ajuste:', 2.489, 's')\n"
     ]
    }
   ],
   "source": [
    "clf_rf = RandomForestClassifier()\n",
    "t0 = time()\n",
    "test_classifier(clf_rf, data_dict, features_list, folds = 100)\n",
    "print(\"Tempo de ajuste RandonForest:\", round(time()-t0, 3), \"s\")"
   ]
  },
  {
   "cell_type": "markdown",
   "metadata": {},
   "source": [
    "### Adaboost"
   ]
  },
  {
   "cell_type": "code",
   "execution_count": 307,
   "metadata": {},
   "outputs": [
    {
     "name": "stdout",
     "output_type": "stream",
     "text": [
      "AdaBoostClassifier(algorithm='SAMME.R', base_estimator=None,\n",
      "          learning_rate=1.0, n_estimators=50, random_state=None)\n",
      "\tAccuracy: 0.84000\tPrecision: 0.36111\tRecall: 0.26000\tF1: 0.30233\tF2: 0.27542\n",
      "\tTotal predictions: 1500\tTrue positives:   52\tFalse positives:   92\tFalse negatives:  148\tTrue negatives: 1208\n",
      "\n",
      "('Tempo de ajuste Adaboost:', 12.103, 's')\n"
     ]
    }
   ],
   "source": [
    "clf_ab = AdaBoostClassifier()\n",
    "t0 = time()\n",
    "test_classifier(clf_ab, data_dict, features_list, folds = 100)\n",
    "print(\"Tempo de ajuste Adaboost:\", round(time()-t0, 3), \"s\")"
   ]
  },
  {
   "cell_type": "markdown",
   "metadata": {},
   "source": [
    "### Modelo Selecionado e Tuning\n",
    "\n",
    "O modelo mais promissor foi o Adaboost! Para facilitar o processo de tuning, irei automatizar o processo com a construção de uma pipeline, afim de realizar os ajustes necessários para melhorar a precisão e o recall."
   ]
  },
  {
   "cell_type": "code",
   "execution_count": 292,
   "metadata": {
    "collapsed": true
   },
   "outputs": [],
   "source": [
    "def get_classifier_and_param_grid(classifier):\n",
    "    \"\"\"Devolve o classificador informado e seu param_grid definido.\n",
    "    \n",
    "    Responsável por retornar uma instância do classificador\n",
    "    especificado e seus parâmetros definidos.\n",
    "    \n",
    "    Classificadores definidos: adaboost, random_forest e decision_tree.\n",
    "    \n",
    "    Args: \n",
    "        classifier: nome do classificador desejado.\n",
    "        \n",
    "    Returns:\n",
    "        return 1: GaussianNB()\n",
    "        return 2: param_grid\n",
    "    \n",
    "    \"\"\"\n",
    "    return {\n",
    "        'adaboost': get_adaboost(),\n",
    "        'random_forest': get_random_forest_classifier(),\n",
    "        'decision_tree': get_decision_tree_classifier(),\n",
    "        'gaussian': get_gaussian_classifier(),\n",
    "        'knn': get_knn_classifier()\n",
    "    }.get(classifier)\n",
    "\n",
    "def get_adaboost():\n",
    "    \"\"\"Devolve uma instância do Adaboost e o param_grid definido.\n",
    "    \n",
    "    Returns:\n",
    "        return 1: AdaBoostClassifier()\n",
    "        return 2: param_grid\n",
    "    \n",
    "    \"\"\"\n",
    "    decision_tree = []\n",
    "    for index in range(1, 5):\n",
    "        decision_tree.append(DecisionTreeClassifier(max_depth=(index), \n",
    "                                                    class_weight='balanced',\n",
    "                                                    min_samples_leaf=2))\n",
    "    param_grid = {\"adaboost__base_estimator\": decision_tree,\n",
    "                  \"adaboost__n_estimators\": [50],\n",
    "                  \"adaboost__learning_rate\": [0.8]\n",
    "                  }    \n",
    "    \n",
    "    return AdaBoostClassifier(), param_grid\n",
    "\n",
    "def get_random_forest_classifier():\n",
    "    \"\"\"Devolve uma instância da RandomForestClassifier e o param_grid definido.\n",
    "    \n",
    "    Returns:\n",
    "        return 1: RandomForestClassifier()\n",
    "        return 2: param_grid\n",
    "    \n",
    "    \"\"\"\n",
    "    param_grid = {\"random_forest__max_depth\": [3, None],\n",
    "                  \"random_forest__max_features\": range(1, 5),\n",
    "                  \"random_forest__min_samples_split\": [2, 4]\n",
    "                  }\n",
    "    \n",
    "    return RandomForestClassifier(), param_grid\n",
    "\n",
    "def get_decision_tree_classifier():\n",
    "    \"\"\"Devolve uma instância da DecisionTreeClassifier e o param_grid definido.\n",
    "    \n",
    "    Returns:\n",
    "        return 1: DecisionTreeClassifier()\n",
    "        return 2: param_grid\n",
    "    \n",
    "    \"\"\"\n",
    "    param_grid = {\"decision_tree__max_depth\": range(1, 5),\n",
    "                  \"decision_tree__min_samples_leaf\": range(1, 5),\n",
    "                  \"decision_tree__min_samples_split\": range(2, 5)\n",
    "                  }\n",
    "        \n",
    "    return DecisionTreeClassifier(), param_grid\n",
    "\n",
    "def get_gaussian_classifier():\n",
    "    \"\"\"Devolve uma instância do GaussianNB e o param_grid definido.\n",
    "    \n",
    "    Returns:\n",
    "        return 1: GaussianNB()\n",
    "        return 2: param_grid\n",
    "    \n",
    "    \"\"\"\n",
    "    param_grid = {\"gaussian__priors\": [None]}\n",
    "        \n",
    "    return GaussianNB(), param_grid\n",
    "\n",
    "def get_knn_classifier():\n",
    "    \"\"\"Devolve uma instância do GaussianNB e o param_grid definido.\n",
    "    \n",
    "    Returns:\n",
    "        return 1: GaussianNB()\n",
    "        return 2: param_grid\n",
    "    \n",
    "    \"\"\"\n",
    "    param_grid = {\n",
    "                  \"knn__algorithm\": ('auto', 'ball_tree', 'kd_tree', 'brute'),\n",
    "                  \"knn__leaf_size\": range(1, 6),\n",
    "                  \"knn__n_neighbors\": range(1, 6)\n",
    "                 }\n",
    "        \n",
    "    return KNeighborsClassifier(), param_grid"
   ]
  },
  {
   "cell_type": "code",
   "execution_count": 230,
   "metadata": {
    "collapsed": true
   },
   "outputs": [],
   "source": [
    "def build_pipeline(labels, features, classifier_name):\n",
    "    \"\"\" Constrói uma pipeline com GridSearchCV.\n",
    "    \n",
    "    Constrói uma pipeline a fim de obter o melhor ajuste \n",
    "    para o classificador informado.\n",
    "    \n",
    "    Args: \n",
    "        labels: labels de treinamento\n",
    "        features: features de treinamento\n",
    "        classifier_name: nome do classificador.\n",
    "        \n",
    "    Returns:\n",
    "        GridSearchCV com as informações da melhor configuração.\n",
    "    \n",
    "    \"\"\"\n",
    "    # Necessário porque o dataset é pequeno.\n",
    "    sss = StratifiedShuffleSplit(labels, 100, random_state = 42)\n",
    "    \n",
    "    classifier, param_grid = get_classifier_and_param_grid(classifier_name)\n",
    "    \n",
    "    pipeline  = Pipeline([\n",
    "                         ('scaler',  MinMaxScaler()),\n",
    "                         ('feature_selection', SelectKBest(k = 17)),\n",
    "                         (classifier_name, classifier),\n",
    "                        ])\n",
    "\n",
    "    grid_search = GridSearchCV(pipeline, param_grid, scoring = 'f1', cv = sss)\n",
    "\n",
    "    grid_search.fit(features, labels)\n",
    "\n",
    "    return grid_search"
   ]
  },
  {
   "cell_type": "code",
   "execution_count": 293,
   "metadata": {
    "collapsed": true
   },
   "outputs": [],
   "source": [
    "def performance_classifiers(classifiers_names):\n",
    "    \"\"\" Constrói um dicionário com o melhor ajuste para cada classificador.\n",
    "    \n",
    "    Responsável por construir um dicionário com todos os classificadores\n",
    "    informados como chave e os melhores ajustes encontrado no GridSearch\n",
    "    como valor.\n",
    "    \n",
    "    Args:\n",
    "        classifiers_names: lista com os nomes dos classificadores.\n",
    "        \n",
    "    Returns:\n",
    "        Dicionário com o nome do classificador como key e o melhor\n",
    "        ajuste como valor\n",
    "    \n",
    "    \"\"\"\n",
    "    performance_clasifiers = {}\n",
    "    for name in classifiers_names:\n",
    "        performance_clasifiers[name] = build_pipeline(labels_train, features_train, name)\n",
    "    return performance_clasifiers\n"
   ]
  },
  {
   "cell_type": "code",
   "execution_count": 294,
   "metadata": {
    "collapsed": true
   },
   "outputs": [],
   "source": [
    "dict_cv_by_classifier =  performance_classifiers(classifiers)"
   ]
  },
  {
   "cell_type": "code",
   "execution_count": 16,
   "metadata": {
    "scrolled": true
   },
   "outputs": [
    {
     "name": "stdout",
     "output_type": "stream",
     "text": [
      "Pipeline(memory=None,\n",
      "     steps=[('scaler', MinMaxScaler(copy=True, feature_range=(0, 1))), ('feature_selection', SelectKBest(k=10, score_func=<function f_classif at 0x000000000C7D1668>)), ('random_forest', RandomForestClassifier(bootstrap=True, class_weight=None, criterion='gini',\n",
      "            max_depth=None, max_features=2,...n_jobs=1,\n",
      "            oob_score=False, random_state=None, verbose=0,\n",
      "            warm_start=False))])\n",
      "\tAccuracy: 0.86040\tPrecision: 0.44835\tRecall: 0.20400\tF1: 0.28041\tF2: 0.22896\n",
      "\tTotal predictions: 15000\tTrue positives:  408\tFalse positives:  502\tFalse negatives: 1592\tTrue negatives: 12498\n",
      "\n"
     ]
    }
   ],
   "source": [
    "clf = dict_cv_by_classifier['random_forest']\n",
    "test_classifier(clf.best_estimator_, data_dict, features_list)"
   ]
  },
  {
   "cell_type": "markdown",
   "metadata": {},
   "source": [
    "###  Resultados da Adaboost ajustada"
   ]
  },
  {
   "cell_type": "code",
   "execution_count": 299,
   "metadata": {},
   "outputs": [
    {
     "name": "stdout",
     "output_type": "stream",
     "text": [
      "Pipeline(memory=None,\n",
      "     steps=[('scaler', MinMaxScaler(copy=True, feature_range=(0, 1))), ('feature_selection', SelectKBest(k=17, score_func=<function f_classif at 0x000000000C7D1668>)), ('adaboost', AdaBoostClassifier(algorithm='SAMME.R',\n",
      "          base_estimator=DecisionTreeClassifier(class_weight='balanced', criterion='...ne,\n",
      "            splitter='best'),\n",
      "          learning_rate=0.8, n_estimators=50, random_state=None))])\n",
      "\tAccuracy: 0.82220\tPrecision: 0.33266\tRecall: 0.33150\tF1: 0.33208\tF2: 0.33173\n",
      "\tTotal predictions: 15000\tTrue positives:  663\tFalse positives: 1330\tFalse negatives: 1337\tTrue negatives: 11670\n",
      "\n"
     ]
    }
   ],
   "source": [
    "clf = dict_cv_by_classifier['adaboost']\n",
    "test_classifier(clf.best_estimator_, data_dict, features_list)"
   ]
  },
  {
   "cell_type": "code",
   "execution_count": 300,
   "metadata": {
    "collapsed": true
   },
   "outputs": [],
   "source": [
    "dump_classifier_and_data(clf, data_dict, features_list)"
   ]
  },
  {
   "cell_type": "code",
   "execution_count": null,
   "metadata": {
    "collapsed": true
   },
   "outputs": [],
   "source": [
    "%run \"tester.py\""
   ]
  },
  {
   "cell_type": "markdown",
   "metadata": {},
   "source": [
    "# Referências\n",
    "\n",
    " - https://seaborn.pydata.org/examples/distplot_options.html\n",
    " - https://stackoverflow.com/questions/29530355/plotting-multiple-histograms-in-grid?utm_medium=organic&utm_source=google_rich_qa&utm_campaign=google_rich_qa\n",
    " - https://stackoverflow.com/questions/34889110/random-forest-with-gridsearchcv-error-on-param-grid?utm_medium=organic&utm_source=google_rich_qa&utm_campaign=google_rich_qa\n",
    " - https://stackoverflow.com/questions/60208/replacements-for-switch-statement-in-python\n"
   ]
  }
 ],
 "metadata": {
  "kernelspec": {
   "display_name": "Python 2",
   "language": "python",
   "name": "python2"
  },
  "language_info": {
   "codemirror_mode": {
    "name": "ipython",
    "version": 2
   },
   "file_extension": ".py",
   "mimetype": "text/x-python",
   "name": "python",
   "nbconvert_exporter": "python",
   "pygments_lexer": "ipython2",
   "version": "2.7.14"
  }
 },
 "nbformat": 4,
 "nbformat_minor": 2
}
